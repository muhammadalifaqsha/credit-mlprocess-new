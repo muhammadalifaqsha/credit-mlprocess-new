{
 "cells": [
  {
   "attachments": {},
   "cell_type": "markdown",
   "metadata": {},
   "source": [
    "# Modelling"
   ]
  },
  {
   "cell_type": "code",
   "execution_count": 1,
   "metadata": {},
   "outputs": [],
   "source": [
    "import numpy as np\n",
    "import pandas as pd\n",
    "import matplotlib.pyplot as plt\n",
    "import seaborn as sns\n",
    "from scipy import stats"
   ]
  },
  {
   "cell_type": "code",
   "execution_count": 2,
   "metadata": {},
   "outputs": [],
   "source": [
    "X_train = pd.read_csv(\"data/X_train.csv\", index_col=0)\n",
    "y_train = pd.read_csv(\"data/y_train.csv\", index_col=0).squeeze()"
   ]
  },
  {
   "cell_type": "code",
   "execution_count": 3,
   "metadata": {},
   "outputs": [
    {
     "data": {
      "text/html": [
       "<div>\n",
       "<style scoped>\n",
       "    .dataframe tbody tr th:only-of-type {\n",
       "        vertical-align: middle;\n",
       "    }\n",
       "\n",
       "    .dataframe tbody tr th {\n",
       "        vertical-align: top;\n",
       "    }\n",
       "\n",
       "    .dataframe thead th {\n",
       "        text-align: right;\n",
       "    }\n",
       "</style>\n",
       "<table border=\"1\" class=\"dataframe\">\n",
       "  <thead>\n",
       "    <tr style=\"text-align: right;\">\n",
       "      <th></th>\n",
       "      <th>RevolvingUtilizationOfUnsecuredLines</th>\n",
       "      <th>age</th>\n",
       "      <th>NumberOfTime30-59DaysPastDueNotWorse</th>\n",
       "      <th>DebtRatio</th>\n",
       "      <th>MonthlyIncome</th>\n",
       "      <th>NumberOfOpenCreditLinesAndLoans</th>\n",
       "      <th>NumberOfTimes90DaysLate</th>\n",
       "      <th>NumberRealEstateLoansOrLines</th>\n",
       "      <th>NumberOfTime60-89DaysPastDueNotWorse</th>\n",
       "      <th>NumberOfDependents</th>\n",
       "      <th>TypeCustomer</th>\n",
       "    </tr>\n",
       "  </thead>\n",
       "  <tbody>\n",
       "    <tr>\n",
       "      <th>80307</th>\n",
       "      <td>0.457839</td>\n",
       "      <td>47</td>\n",
       "      <td>0.0</td>\n",
       "      <td>0.046115</td>\n",
       "      <td>67743.0</td>\n",
       "      <td>12</td>\n",
       "      <td>0.0</td>\n",
       "      <td>1</td>\n",
       "      <td>0.0</td>\n",
       "      <td>0.0</td>\n",
       "      <td>0</td>\n",
       "    </tr>\n",
       "    <tr>\n",
       "      <th>30226</th>\n",
       "      <td>0.009027</td>\n",
       "      <td>52</td>\n",
       "      <td>0.0</td>\n",
       "      <td>0.477691</td>\n",
       "      <td>6790.0</td>\n",
       "      <td>16</td>\n",
       "      <td>0.0</td>\n",
       "      <td>2</td>\n",
       "      <td>0.0</td>\n",
       "      <td>0.0</td>\n",
       "      <td>0</td>\n",
       "    </tr>\n",
       "    <tr>\n",
       "      <th>133736</th>\n",
       "      <td>0.999900</td>\n",
       "      <td>47</td>\n",
       "      <td>2.0</td>\n",
       "      <td>0.226398</td>\n",
       "      <td>7583.0</td>\n",
       "      <td>4</td>\n",
       "      <td>0.0</td>\n",
       "      <td>1</td>\n",
       "      <td>0.0</td>\n",
       "      <td>2.0</td>\n",
       "      <td>0</td>\n",
       "    </tr>\n",
       "    <tr>\n",
       "      <th>37286</th>\n",
       "      <td>0.190475</td>\n",
       "      <td>59</td>\n",
       "      <td>1.0</td>\n",
       "      <td>0.320860</td>\n",
       "      <td>6466.0</td>\n",
       "      <td>6</td>\n",
       "      <td>0.0</td>\n",
       "      <td>1</td>\n",
       "      <td>0.0</td>\n",
       "      <td>1.0</td>\n",
       "      <td>0</td>\n",
       "    </tr>\n",
       "    <tr>\n",
       "      <th>6148</th>\n",
       "      <td>0.204319</td>\n",
       "      <td>38</td>\n",
       "      <td>0.0</td>\n",
       "      <td>0.331111</td>\n",
       "      <td>6000.0</td>\n",
       "      <td>14</td>\n",
       "      <td>0.0</td>\n",
       "      <td>2</td>\n",
       "      <td>0.0</td>\n",
       "      <td>2.0</td>\n",
       "      <td>0</td>\n",
       "    </tr>\n",
       "  </tbody>\n",
       "</table>\n",
       "</div>"
      ],
      "text/plain": [
       "        RevolvingUtilizationOfUnsecuredLines  age  \\\n",
       "80307                               0.457839   47   \n",
       "30226                               0.009027   52   \n",
       "133736                              0.999900   47   \n",
       "37286                               0.190475   59   \n",
       "6148                                0.204319   38   \n",
       "\n",
       "        NumberOfTime30-59DaysPastDueNotWorse  DebtRatio  MonthlyIncome  \\\n",
       "80307                                    0.0   0.046115        67743.0   \n",
       "30226                                    0.0   0.477691         6790.0   \n",
       "133736                                   2.0   0.226398         7583.0   \n",
       "37286                                    1.0   0.320860         6466.0   \n",
       "6148                                     0.0   0.331111         6000.0   \n",
       "\n",
       "        NumberOfOpenCreditLinesAndLoans  NumberOfTimes90DaysLate  \\\n",
       "80307                                12                      0.0   \n",
       "30226                                16                      0.0   \n",
       "133736                                4                      0.0   \n",
       "37286                                 6                      0.0   \n",
       "6148                                 14                      0.0   \n",
       "\n",
       "        NumberRealEstateLoansOrLines  NumberOfTime60-89DaysPastDueNotWorse  \\\n",
       "80307                              1                                   0.0   \n",
       "30226                              2                                   0.0   \n",
       "133736                             1                                   0.0   \n",
       "37286                              1                                   0.0   \n",
       "6148                               2                                   0.0   \n",
       "\n",
       "        NumberOfDependents  TypeCustomer  \n",
       "80307                  0.0             0  \n",
       "30226                  0.0             0  \n",
       "133736                 2.0             0  \n",
       "37286                  1.0             0  \n",
       "6148                   2.0             0  "
      ]
     },
     "execution_count": 3,
     "metadata": {},
     "output_type": "execute_result"
    }
   ],
   "source": [
    "X_train.head()"
   ]
  },
  {
   "cell_type": "code",
   "execution_count": 4,
   "metadata": {},
   "outputs": [],
   "source": [
    "X_train[\"LogMonthlyIncome\"] = np.log(X_train[\"MonthlyIncome\"]+1)"
   ]
  },
  {
   "cell_type": "code",
   "execution_count": 5,
   "metadata": {},
   "outputs": [
    {
     "data": {
      "text/plain": [
       "<Axes: xlabel='LogMonthlyIncome', ylabel='Count'>"
      ]
     },
     "execution_count": 5,
     "metadata": {},
     "output_type": "execute_result"
    },
    {
     "data": {
      "image/png": "[encoded data removed]",
      "text/plain": [
       "<Figure size 640x480 with 1 Axes>"
      ]
     },
     "metadata": {},
     "output_type": "display_data"
    }
   ],
   "source": [
    "sns.histplot(data=X_train, x=\"LogMonthlyIncome\")"
   ]
  },
  {
   "cell_type": "code",
   "execution_count": 6,
   "metadata": {},
   "outputs": [],
   "source": [
    "X_train[\"LogLogRevolvingUtilizationOfUnsecuredLines\"] = np.log(np.log(X_train[\"RevolvingUtilizationOfUnsecuredLines\"]+1)+1)"
   ]
  },
  {
   "cell_type": "code",
   "execution_count": 7,
   "metadata": {},
   "outputs": [
    {
     "data": {
      "text/plain": [
       "<Axes: xlabel='LogLogRevolvingUtilizationOfUnsecuredLines', ylabel='Count'>"
      ]
     },
     "execution_count": 7,
     "metadata": {},
     "output_type": "execute_result"
    },
    {
     "data": {
      "image/png": "[encoded data removed]",
      "text/plain": [
       "<Figure size 640x480 with 1 Axes>"
      ]
     },
     "metadata": {},
     "output_type": "display_data"
    }
   ],
   "source": [
    "sns.histplot(data=X_train, x=\"LogLogRevolvingUtilizationOfUnsecuredLines\")"
   ]
  },
  {
   "cell_type": "code",
   "execution_count": 8,
   "metadata": {},
   "outputs": [],
   "source": [
    "X_train[\"LogDebtRatio\"] = np.log(X_train[\"DebtRatio\"]+1e-05)"
   ]
  },
  {
   "cell_type": "code",
   "execution_count": 9,
   "metadata": {},
   "outputs": [
    {
     "data": {
      "text/plain": [
       "<Axes: xlabel='LogDebtRatio', ylabel='Count'>"
      ]
     },
     "execution_count": 9,
     "metadata": {},
     "output_type": "execute_result"
    },
    {
     "data": {
      "image/png": "[encoded data removed]",
      "text/plain": [
       "<Figure size 640x480 with 1 Axes>"
      ]
     },
     "metadata": {},
     "output_type": "display_data"
    }
   ],
   "source": [
    "sns.histplot(data=X_train, x=\"LogDebtRatio\")"
   ]
  },
  {
   "attachments": {},
   "cell_type": "markdown",
   "metadata": {},
   "source": [
    "# 1. Logistic Regression Modelling"
   ]
  },
  {
   "attachments": {},
   "cell_type": "markdown",
   "metadata": {},
   "source": [
    "## (1a) Standardizing"
   ]
  },
  {
   "cell_type": "code",
   "execution_count": 10,
   "metadata": {},
   "outputs": [
    {
     "data": {
      "text/html": [
       "<style>#sk-container-id-1 {color: black;background-color: white;}#sk-container-id-1 pre{padding: 0;}#sk-container-id-1 div.sk-toggleable {background-color: white;}#sk-container-id-1 label.sk-toggleable__label {cursor: pointer;display: block;width: 100%;margin-bottom: 0;padding: 0.3em;box-sizing: border-box;text-align: center;}#sk-container-id-1 label.sk-toggleable__label-arrow:before {content: \"▸\";float: left;margin-right: 0.25em;color: #696969;}#sk-container-id-1 label.sk-toggleable__label-arrow:hover:before {color: black;}#sk-container-id-1 div.sk-estimator:hover label.sk-toggleable__label-arrow:before {color: black;}#sk-container-id-1 div.sk-toggleable__content {max-height: 0;max-width: 0;overflow: hidden;text-align: left;background-color: #f0f8ff;}#sk-container-id-1 div.sk-toggleable__content pre {margin: 0.2em;color: black;border-radius: 0.25em;background-color: #f0f8ff;}#sk-container-id-1 input.sk-toggleable__control:checked~div.sk-toggleable__content {max-height: 200px;max-width: 100%;overflow: auto;}#sk-container-id-1 input.sk-toggleable__control:checked~label.sk-toggleable__label-arrow:before {content: \"▾\";}#sk-container-id-1 div.sk-estimator input.sk-toggleable__control:checked~label.sk-toggleable__label {background-color: #d4ebff;}#sk-container-id-1 div.sk-label input.sk-toggleable__control:checked~label.sk-toggleable__label {background-color: #d4ebff;}#sk-container-id-1 input.sk-hidden--visually {border: 0;clip: rect(1px 1px 1px 1px);clip: rect(1px, 1px, 1px, 1px);height: 1px;margin: -1px;overflow: hidden;padding: 0;position: absolute;width: 1px;}#sk-container-id-1 div.sk-estimator {font-family: monospace;background-color: #f0f8ff;border: 1px dotted black;border-radius: 0.25em;box-sizing: border-box;margin-bottom: 0.5em;}#sk-container-id-1 div.sk-estimator:hover {background-color: #d4ebff;}#sk-container-id-1 div.sk-parallel-item::after {content: \"\";width: 100%;border-bottom: 1px solid gray;flex-grow: 1;}#sk-container-id-1 div.sk-label:hover label.sk-toggleable__label {background-color: #d4ebff;}#sk-container-id-1 div.sk-serial::before {content: \"\";position: absolute;border-left: 1px solid gray;box-sizing: border-box;top: 0;bottom: 0;left: 50%;z-index: 0;}#sk-container-id-1 div.sk-serial {display: flex;flex-direction: column;align-items: center;background-color: white;padding-right: 0.2em;padding-left: 0.2em;position: relative;}#sk-container-id-1 div.sk-item {position: relative;z-index: 1;}#sk-container-id-1 div.sk-parallel {display: flex;align-items: stretch;justify-content: center;background-color: white;position: relative;}#sk-container-id-1 div.sk-item::before, #sk-container-id-1 div.sk-parallel-item::before {content: \"\";position: absolute;border-left: 1px solid gray;box-sizing: border-box;top: 0;bottom: 0;left: 50%;z-index: -1;}#sk-container-id-1 div.sk-parallel-item {display: flex;flex-direction: column;z-index: 1;position: relative;background-color: white;}#sk-container-id-1 div.sk-parallel-item:first-child::after {align-self: flex-end;width: 50%;}#sk-container-id-1 div.sk-parallel-item:last-child::after {align-self: flex-start;width: 50%;}#sk-container-id-1 div.sk-parallel-item:only-child::after {width: 0;}#sk-container-id-1 div.sk-dashed-wrapped {border: 1px dashed gray;margin: 0 0.4em 0.5em 0.4em;box-sizing: border-box;padding-bottom: 0.4em;background-color: white;}#sk-container-id-1 div.sk-label label {font-family: monospace;font-weight: bold;display: inline-block;line-height: 1.2em;}#sk-container-id-1 div.sk-label-container {text-align: center;}#sk-container-id-1 div.sk-container {/* jupyter's `normalize.less` sets `[hidden] { display: none; }` but bootstrap.min.css set `[hidden] { display: none !important; }` so we also need the `!important` here to be able to override the default hidden behavior on the sphinx rendered scikit-learn.org. See: https://github.com/scikit-learn/scikit-learn/issues/21755 */display: inline-block !important;position: relative;}#sk-container-id-1 div.sk-text-repr-fallback {display: none;}</style><div id=\"sk-container-id-1\" class=\"sk-top-container\"><div class=\"sk-text-repr-fallback\"><pre>StandardScaler()</pre><b>In a Jupyter environment, please rerun this cell to show the HTML representation or trust the notebook. <br />On GitHub, the HTML representation is unable to render, please try loading this page with nbviewer.org.</b></div><div class=\"sk-container\" hidden><div class=\"sk-item\"><div class=\"sk-estimator sk-toggleable\"><input class=\"sk-toggleable__control sk-hidden--visually\" id=\"sk-estimator-id-1\" type=\"checkbox\" checked><label for=\"sk-estimator-id-1\" class=\"sk-toggleable__label sk-toggleable__label-arrow\">StandardScaler</label><div class=\"sk-toggleable__content\"><pre>StandardScaler()</pre></div></div></div></div></div>"
      ],
      "text/plain": [
       "StandardScaler()"
      ]
     },
     "execution_count": 10,
     "metadata": {},
     "output_type": "execute_result"
    }
   ],
   "source": [
    "from sklearn.preprocessing import StandardScaler\n",
    "\n",
    "# Standardizing data\n",
    "scaler = StandardScaler()\n",
    "scaler.fit(X_train)"
   ]
  },
  {
   "cell_type": "code",
   "execution_count": 11,
   "metadata": {},
   "outputs": [],
   "source": [
    "# Convert X_train & X_test\n",
    "def scaler_transform(data, scaler):\n",
    "    data_scaled = scaler.transform(data)\n",
    "    data_scaled = pd.DataFrame(data_scaled)\n",
    "    data_scaled.columns = data.columns\n",
    "    data_scaled.index = data.index\n",
    "\n",
    "    return data_scaled"
   ]
  },
  {
   "cell_type": "code",
   "execution_count": 12,
   "metadata": {},
   "outputs": [],
   "source": [
    "X_train_scaled = scaler_transform(data = X_train,\n",
    "                                  scaler = scaler)"
   ]
  },
  {
   "cell_type": "code",
   "execution_count": 13,
   "metadata": {},
   "outputs": [
    {
     "data": {
      "text/html": [
       "<div>\n",
       "<style scoped>\n",
       "    .dataframe tbody tr th:only-of-type {\n",
       "        vertical-align: middle;\n",
       "    }\n",
       "\n",
       "    .dataframe tbody tr th {\n",
       "        vertical-align: top;\n",
       "    }\n",
       "\n",
       "    .dataframe thead th {\n",
       "        text-align: right;\n",
       "    }\n",
       "</style>\n",
       "<table border=\"1\" class=\"dataframe\">\n",
       "  <thead>\n",
       "    <tr style=\"text-align: right;\">\n",
       "      <th></th>\n",
       "      <th>RevolvingUtilizationOfUnsecuredLines</th>\n",
       "      <th>age</th>\n",
       "      <th>NumberOfTime30-59DaysPastDueNotWorse</th>\n",
       "      <th>DebtRatio</th>\n",
       "      <th>MonthlyIncome</th>\n",
       "      <th>NumberOfOpenCreditLinesAndLoans</th>\n",
       "      <th>NumberOfTimes90DaysLate</th>\n",
       "      <th>NumberRealEstateLoansOrLines</th>\n",
       "      <th>NumberOfTime60-89DaysPastDueNotWorse</th>\n",
       "      <th>NumberOfDependents</th>\n",
       "      <th>TypeCustomer</th>\n",
       "      <th>LogMonthlyIncome</th>\n",
       "      <th>LogLogRevolvingUtilizationOfUnsecuredLines</th>\n",
       "      <th>LogDebtRatio</th>\n",
       "    </tr>\n",
       "  </thead>\n",
       "  <tbody>\n",
       "    <tr>\n",
       "      <th>80307</th>\n",
       "      <td>-0.022665</td>\n",
       "      <td>-0.359114</td>\n",
       "      <td>-0.352441</td>\n",
       "      <td>-0.232311</td>\n",
       "      <td>4.359262</td>\n",
       "      <td>0.684016</td>\n",
       "      <td>-0.185818</td>\n",
       "      <td>-0.020921</td>\n",
       "      <td>-0.196823</td>\n",
       "      <td>-0.667284</td>\n",
       "      <td>-0.492793</td>\n",
       "      <td>1.228830</td>\n",
       "      <td>0.563201</td>\n",
       "      <td>-0.735964</td>\n",
       "    </tr>\n",
       "    <tr>\n",
       "      <th>30226</th>\n",
       "      <td>-0.024498</td>\n",
       "      <td>-0.019155</td>\n",
       "      <td>-0.352441</td>\n",
       "      <td>-0.232021</td>\n",
       "      <td>0.097846</td>\n",
       "      <td>1.462043</td>\n",
       "      <td>-0.185818</td>\n",
       "      <td>0.860418</td>\n",
       "      <td>-0.196823</td>\n",
       "      <td>-0.667284</td>\n",
       "      <td>-0.492793</td>\n",
       "      <td>0.579399</td>\n",
       "      <td>-0.953422</td>\n",
       "      <td>-0.144244</td>\n",
       "    </tr>\n",
       "    <tr>\n",
       "      <th>133736</th>\n",
       "      <td>-0.020451</td>\n",
       "      <td>-0.359114</td>\n",
       "      <td>2.515175</td>\n",
       "      <td>-0.232190</td>\n",
       "      <td>0.153287</td>\n",
       "      <td>-0.872036</td>\n",
       "      <td>-0.185818</td>\n",
       "      <td>-0.020921</td>\n",
       "      <td>-0.196823</td>\n",
       "      <td>1.136102</td>\n",
       "      <td>-0.492793</td>\n",
       "      <td>0.610582</td>\n",
       "      <td>1.571355</td>\n",
       "      <td>-0.333241</td>\n",
       "    </tr>\n",
       "    <tr>\n",
       "      <th>37286</th>\n",
       "      <td>-0.023757</td>\n",
       "      <td>0.456787</td>\n",
       "      <td>1.081367</td>\n",
       "      <td>-0.232126</td>\n",
       "      <td>0.075194</td>\n",
       "      <td>-0.483023</td>\n",
       "      <td>-0.185818</td>\n",
       "      <td>-0.020921</td>\n",
       "      <td>-0.196823</td>\n",
       "      <td>0.234409</td>\n",
       "      <td>-0.492793</td>\n",
       "      <td>0.565596</td>\n",
       "      <td>-0.213128</td>\n",
       "      <td>-0.244976</td>\n",
       "    </tr>\n",
       "    <tr>\n",
       "      <th>6148</th>\n",
       "      <td>-0.023700</td>\n",
       "      <td>-0.971039</td>\n",
       "      <td>-0.352441</td>\n",
       "      <td>-0.232120</td>\n",
       "      <td>0.042615</td>\n",
       "      <td>1.073030</td>\n",
       "      <td>-0.185818</td>\n",
       "      <td>0.860418</td>\n",
       "      <td>-0.196823</td>\n",
       "      <td>1.136102</td>\n",
       "      <td>-0.492793</td>\n",
       "      <td>0.544481</td>\n",
       "      <td>-0.165341</td>\n",
       "      <td>-0.237015</td>\n",
       "    </tr>\n",
       "    <tr>\n",
       "      <th>...</th>\n",
       "      <td>...</td>\n",
       "      <td>...</td>\n",
       "      <td>...</td>\n",
       "      <td>...</td>\n",
       "      <td>...</td>\n",
       "      <td>...</td>\n",
       "      <td>...</td>\n",
       "      <td>...</td>\n",
       "      <td>...</td>\n",
       "      <td>...</td>\n",
       "      <td>...</td>\n",
       "      <td>...</td>\n",
       "      <td>...</td>\n",
       "      <td>...</td>\n",
       "    </tr>\n",
       "    <tr>\n",
       "      <th>29359</th>\n",
       "      <td>-0.023640</td>\n",
       "      <td>0.660762</td>\n",
       "      <td>-0.352441</td>\n",
       "      <td>-0.232025</td>\n",
       "      <td>0.112528</td>\n",
       "      <td>6.713719</td>\n",
       "      <td>-0.185818</td>\n",
       "      <td>0.860418</td>\n",
       "      <td>-0.196823</td>\n",
       "      <td>-0.667284</td>\n",
       "      <td>-0.492793</td>\n",
       "      <td>0.587998</td>\n",
       "      <td>-0.115295</td>\n",
       "      <td>-0.147544</td>\n",
       "    </tr>\n",
       "    <tr>\n",
       "      <th>85572</th>\n",
       "      <td>-0.020450</td>\n",
       "      <td>0.864737</td>\n",
       "      <td>-0.352441</td>\n",
       "      <td>-0.232341</td>\n",
       "      <td>0.118331</td>\n",
       "      <td>-1.261049</td>\n",
       "      <td>-0.185818</td>\n",
       "      <td>-0.902261</td>\n",
       "      <td>-0.196823</td>\n",
       "      <td>-0.667284</td>\n",
       "      <td>-0.492793</td>\n",
       "      <td>0.591325</td>\n",
       "      <td>1.571499</td>\n",
       "      <td>-2.184042</td>\n",
       "    </tr>\n",
       "    <tr>\n",
       "      <th>118251</th>\n",
       "      <td>-0.024535</td>\n",
       "      <td>2.768504</td>\n",
       "      <td>-0.352441</td>\n",
       "      <td>-0.226981</td>\n",
       "      <td>-0.376864</td>\n",
       "      <td>-1.261049</td>\n",
       "      <td>-0.185818</td>\n",
       "      <td>-0.902261</td>\n",
       "      <td>-0.196823</td>\n",
       "      <td>-0.667284</td>\n",
       "      <td>2.029248</td>\n",
       "      <td>-1.911825</td>\n",
       "      <td>-0.997062</td>\n",
       "      <td>0.569123</td>\n",
       "    </tr>\n",
       "    <tr>\n",
       "      <th>95767</th>\n",
       "      <td>-0.021054</td>\n",
       "      <td>0.048836</td>\n",
       "      <td>-0.352441</td>\n",
       "      <td>-0.231911</td>\n",
       "      <td>-0.046734</td>\n",
       "      <td>0.684016</td>\n",
       "      <td>-0.185818</td>\n",
       "      <td>0.860418</td>\n",
       "      <td>-0.196823</td>\n",
       "      <td>-0.667284</td>\n",
       "      <td>-0.492793</td>\n",
       "      <td>0.476864</td>\n",
       "      <td>1.344946</td>\n",
       "      <td>-0.069429</td>\n",
       "    </tr>\n",
       "    <tr>\n",
       "      <th>140296</th>\n",
       "      <td>-0.024535</td>\n",
       "      <td>1.612645</td>\n",
       "      <td>-0.352441</td>\n",
       "      <td>-0.232282</td>\n",
       "      <td>0.675818</td>\n",
       "      <td>-0.483023</td>\n",
       "      <td>-0.185818</td>\n",
       "      <td>-0.020921</td>\n",
       "      <td>-0.196823</td>\n",
       "      <td>0.234409</td>\n",
       "      <td>-0.492793</td>\n",
       "      <td>0.804233</td>\n",
       "      <td>-0.997062</td>\n",
       "      <td>-0.568834</td>\n",
       "    </tr>\n",
       "  </tbody>\n",
       "</table>\n",
       "<p>119512 rows × 14 columns</p>\n",
       "</div>"
      ],
      "text/plain": [
       "        RevolvingUtilizationOfUnsecuredLines       age  \\\n",
       "80307                              -0.022665 -0.359114   \n",
       "30226                              -0.024498 -0.019155   \n",
       "133736                             -0.020451 -0.359114   \n",
       "37286                              -0.023757  0.456787   \n",
       "6148                               -0.023700 -0.971039   \n",
       "...                                      ...       ...   \n",
       "29359                              -0.023640  0.660762   \n",
       "85572                              -0.020450  0.864737   \n",
       "118251                             -0.024535  2.768504   \n",
       "95767                              -0.021054  0.048836   \n",
       "140296                             -0.024535  1.612645   \n",
       "\n",
       "        NumberOfTime30-59DaysPastDueNotWorse  DebtRatio  MonthlyIncome  \\\n",
       "80307                              -0.352441  -0.232311       4.359262   \n",
       "30226                              -0.352441  -0.232021       0.097846   \n",
       "133736                              2.515175  -0.232190       0.153287   \n",
       "37286                               1.081367  -0.232126       0.075194   \n",
       "6148                               -0.352441  -0.232120       0.042615   \n",
       "...                                      ...        ...            ...   \n",
       "29359                              -0.352441  -0.232025       0.112528   \n",
       "85572                              -0.352441  -0.232341       0.118331   \n",
       "118251                             -0.352441  -0.226981      -0.376864   \n",
       "95767                              -0.352441  -0.231911      -0.046734   \n",
       "140296                             -0.352441  -0.232282       0.675818   \n",
       "\n",
       "        NumberOfOpenCreditLinesAndLoans  NumberOfTimes90DaysLate  \\\n",
       "80307                          0.684016                -0.185818   \n",
       "30226                          1.462043                -0.185818   \n",
       "133736                        -0.872036                -0.185818   \n",
       "37286                         -0.483023                -0.185818   \n",
       "6148                           1.073030                -0.185818   \n",
       "...                                 ...                      ...   \n",
       "29359                          6.713719                -0.185818   \n",
       "85572                         -1.261049                -0.185818   \n",
       "118251                        -1.261049                -0.185818   \n",
       "95767                          0.684016                -0.185818   \n",
       "140296                        -0.483023                -0.185818   \n",
       "\n",
       "        NumberRealEstateLoansOrLines  NumberOfTime60-89DaysPastDueNotWorse  \\\n",
       "80307                      -0.020921                             -0.196823   \n",
       "30226                       0.860418                             -0.196823   \n",
       "133736                     -0.020921                             -0.196823   \n",
       "37286                      -0.020921                             -0.196823   \n",
       "6148                        0.860418                             -0.196823   \n",
       "...                              ...                                   ...   \n",
       "29359                       0.860418                             -0.196823   \n",
       "85572                      -0.902261                             -0.196823   \n",
       "118251                     -0.902261                             -0.196823   \n",
       "95767                       0.860418                             -0.196823   \n",
       "140296                     -0.020921                             -0.196823   \n",
       "\n",
       "        NumberOfDependents  TypeCustomer  LogMonthlyIncome  \\\n",
       "80307            -0.667284     -0.492793          1.228830   \n",
       "30226            -0.667284     -0.492793          0.579399   \n",
       "133736            1.136102     -0.492793          0.610582   \n",
       "37286             0.234409     -0.492793          0.565596   \n",
       "6148              1.136102     -0.492793          0.544481   \n",
       "...                    ...           ...               ...   \n",
       "29359            -0.667284     -0.492793          0.587998   \n",
       "85572            -0.667284     -0.492793          0.591325   \n",
       "118251           -0.667284      2.029248         -1.911825   \n",
       "95767            -0.667284     -0.492793          0.476864   \n",
       "140296            0.234409     -0.492793          0.804233   \n",
       "\n",
       "        LogLogRevolvingUtilizationOfUnsecuredLines  LogDebtRatio  \n",
       "80307                                     0.563201     -0.735964  \n",
       "30226                                    -0.953422     -0.144244  \n",
       "133736                                    1.571355     -0.333241  \n",
       "37286                                    -0.213128     -0.244976  \n",
       "6148                                     -0.165341     -0.237015  \n",
       "...                                            ...           ...  \n",
       "29359                                    -0.115295     -0.147544  \n",
       "85572                                     1.571499     -2.184042  \n",
       "118251                                   -0.997062      0.569123  \n",
       "95767                                     1.344946     -0.069429  \n",
       "140296                                   -0.997062     -0.568834  \n",
       "\n",
       "[119512 rows x 14 columns]"
      ]
     },
     "execution_count": 13,
     "metadata": {},
     "output_type": "execute_result"
    }
   ],
   "source": [
    "X_train_scaled"
   ]
  },
  {
   "attachments": {},
   "cell_type": "markdown",
   "metadata": {},
   "source": [
    "## (1b) Undersampling"
   ]
  },
  {
   "cell_type": "code",
   "execution_count": 14,
   "metadata": {},
   "outputs": [],
   "source": [
    "from imblearn.under_sampling import RandomUnderSampler"
   ]
  },
  {
   "cell_type": "code",
   "execution_count": 15,
   "metadata": {},
   "outputs": [],
   "source": [
    "rus = RandomUnderSampler(sampling_strategy = 0.3,\n",
    "                         random_state = 20230703)"
   ]
  },
  {
   "cell_type": "code",
   "execution_count": 16,
   "metadata": {},
   "outputs": [],
   "source": [
    "X_res, y_res = rus.fit_resample(X_train_scaled, y_train)"
   ]
  },
  {
   "cell_type": "code",
   "execution_count": 17,
   "metadata": {},
   "outputs": [],
   "source": [
    "# Import library\n",
    "from sklearn.linear_model import LogisticRegression"
   ]
  },
  {
   "cell_type": "code",
   "execution_count": 18,
   "metadata": {},
   "outputs": [
    {
     "data": {
      "text/plain": [
       "SeriousDlqin2yrs\n",
       "0    0.650000\n",
       "1    2.166667\n",
       "Name: count, dtype: float64"
      ]
     },
     "execution_count": 18,
     "metadata": {},
     "output_type": "execute_result"
    }
   ],
   "source": [
    "# Assigning weight to Approved & Rejected credit\n",
    "n_samples = len(y_res)\n",
    "n_classes = len(y_res.value_counts())\n",
    "n_samples_j = y_res.value_counts()\n",
    "\n",
    "class_weight = n_samples / (n_classes * n_samples_j)\n",
    "class_weight"
   ]
  },
  {
   "cell_type": "code",
   "execution_count": 19,
   "metadata": {},
   "outputs": [],
   "source": [
    "logreg = LogisticRegression(class_weight = dict(class_weight),\n",
    "                            solver = \"liblinear\",\n",
    "                            random_state = 20230703)"
   ]
  },
  {
   "cell_type": "code",
   "execution_count": 20,
   "metadata": {},
   "outputs": [],
   "source": [
    "# hyperparameter search\n",
    "from sklearn.model_selection import GridSearchCV\n",
    "\n",
    "search_params = {\"penalty\": [\"l1\", \"l2\"],\n",
    "                 \"C\": np.logspace(-5, 5, 20)}\n",
    "\n",
    "logreg_cv = GridSearchCV(estimator = logreg,\n",
    "                         param_grid = search_params,\n",
    "                         cv = 5)"
   ]
  },
  {
   "cell_type": "code",
   "execution_count": 21,
   "metadata": {},
   "outputs": [
    {
     "data": {
      "text/html": [
       "<style>#sk-container-id-2 {color: black;background-color: white;}#sk-container-id-2 pre{padding: 0;}#sk-container-id-2 div.sk-toggleable {background-color: white;}#sk-container-id-2 label.sk-toggleable__label {cursor: pointer;display: block;width: 100%;margin-bottom: 0;padding: 0.3em;box-sizing: border-box;text-align: center;}#sk-container-id-2 label.sk-toggleable__label-arrow:before {content: \"▸\";float: left;margin-right: 0.25em;color: #696969;}#sk-container-id-2 label.sk-toggleable__label-arrow:hover:before {color: black;}#sk-container-id-2 div.sk-estimator:hover label.sk-toggleable__label-arrow:before {color: black;}#sk-container-id-2 div.sk-toggleable__content {max-height: 0;max-width: 0;overflow: hidden;text-align: left;background-color: #f0f8ff;}#sk-container-id-2 div.sk-toggleable__content pre {margin: 0.2em;color: black;border-radius: 0.25em;background-color: #f0f8ff;}#sk-container-id-2 input.sk-toggleable__control:checked~div.sk-toggleable__content {max-height: 200px;max-width: 100%;overflow: auto;}#sk-container-id-2 input.sk-toggleable__control:checked~label.sk-toggleable__label-arrow:before {content: \"▾\";}#sk-container-id-2 div.sk-estimator input.sk-toggleable__control:checked~label.sk-toggleable__label {background-color: #d4ebff;}#sk-container-id-2 div.sk-label input.sk-toggleable__control:checked~label.sk-toggleable__label {background-color: #d4ebff;}#sk-container-id-2 input.sk-hidden--visually {border: 0;clip: rect(1px 1px 1px 1px);clip: rect(1px, 1px, 1px, 1px);height: 1px;margin: -1px;overflow: hidden;padding: 0;position: absolute;width: 1px;}#sk-container-id-2 div.sk-estimator {font-family: monospace;background-color: #f0f8ff;border: 1px dotted black;border-radius: 0.25em;box-sizing: border-box;margin-bottom: 0.5em;}#sk-container-id-2 div.sk-estimator:hover {background-color: #d4ebff;}#sk-container-id-2 div.sk-parallel-item::after {content: \"\";width: 100%;border-bottom: 1px solid gray;flex-grow: 1;}#sk-container-id-2 div.sk-label:hover label.sk-toggleable__label {background-color: #d4ebff;}#sk-container-id-2 div.sk-serial::before {content: \"\";position: absolute;border-left: 1px solid gray;box-sizing: border-box;top: 0;bottom: 0;left: 50%;z-index: 0;}#sk-container-id-2 div.sk-serial {display: flex;flex-direction: column;align-items: center;background-color: white;padding-right: 0.2em;padding-left: 0.2em;position: relative;}#sk-container-id-2 div.sk-item {position: relative;z-index: 1;}#sk-container-id-2 div.sk-parallel {display: flex;align-items: stretch;justify-content: center;background-color: white;position: relative;}#sk-container-id-2 div.sk-item::before, #sk-container-id-2 div.sk-parallel-item::before {content: \"\";position: absolute;border-left: 1px solid gray;box-sizing: border-box;top: 0;bottom: 0;left: 50%;z-index: -1;}#sk-container-id-2 div.sk-parallel-item {display: flex;flex-direction: column;z-index: 1;position: relative;background-color: white;}#sk-container-id-2 div.sk-parallel-item:first-child::after {align-self: flex-end;width: 50%;}#sk-container-id-2 div.sk-parallel-item:last-child::after {align-self: flex-start;width: 50%;}#sk-container-id-2 div.sk-parallel-item:only-child::after {width: 0;}#sk-container-id-2 div.sk-dashed-wrapped {border: 1px dashed gray;margin: 0 0.4em 0.5em 0.4em;box-sizing: border-box;padding-bottom: 0.4em;background-color: white;}#sk-container-id-2 div.sk-label label {font-family: monospace;font-weight: bold;display: inline-block;line-height: 1.2em;}#sk-container-id-2 div.sk-label-container {text-align: center;}#sk-container-id-2 div.sk-container {/* jupyter's `normalize.less` sets `[hidden] { display: none; }` but bootstrap.min.css set `[hidden] { display: none !important; }` so we also need the `!important` here to be able to override the default hidden behavior on the sphinx rendered scikit-learn.org. See: https://github.com/scikit-learn/scikit-learn/issues/21755 */display: inline-block !important;position: relative;}#sk-container-id-2 div.sk-text-repr-fallback {display: none;}</style><div id=\"sk-container-id-2\" class=\"sk-top-container\"><div class=\"sk-text-repr-fallback\"><pre>GridSearchCV(cv=5,\n",
       "             estimator=LogisticRegression(class_weight={0: 0.65,\n",
       "                                                        1: 2.1666666666666665},\n",
       "                                          random_state=20230703,\n",
       "                                          solver=&#x27;liblinear&#x27;),\n",
       "             param_grid={&#x27;C&#x27;: array([1.00000000e-05, 3.35981829e-05, 1.12883789e-04, 3.79269019e-04,\n",
       "       1.27427499e-03, 4.28133240e-03, 1.43844989e-02, 4.83293024e-02,\n",
       "       1.62377674e-01, 5.45559478e-01, 1.83298071e+00, 6.15848211e+00,\n",
       "       2.06913808e+01, 6.95192796e+01, 2.33572147e+02, 7.84759970e+02,\n",
       "       2.63665090e+03, 8.85866790e+03, 2.97635144e+04, 1.00000000e+05]),\n",
       "                         &#x27;penalty&#x27;: [&#x27;l1&#x27;, &#x27;l2&#x27;]})</pre><b>In a Jupyter environment, please rerun this cell to show the HTML representation or trust the notebook. <br />On GitHub, the HTML representation is unable to render, please try loading this page with nbviewer.org.</b></div><div class=\"sk-container\" hidden><div class=\"sk-item sk-dashed-wrapped\"><div class=\"sk-label-container\"><div class=\"sk-label sk-toggleable\"><input class=\"sk-toggleable__control sk-hidden--visually\" id=\"sk-estimator-id-2\" type=\"checkbox\" ><label for=\"sk-estimator-id-2\" class=\"sk-toggleable__label sk-toggleable__label-arrow\">GridSearchCV</label><div class=\"sk-toggleable__content\"><pre>GridSearchCV(cv=5,\n",
       "             estimator=LogisticRegression(class_weight={0: 0.65,\n",
       "                                                        1: 2.1666666666666665},\n",
       "                                          random_state=20230703,\n",
       "                                          solver=&#x27;liblinear&#x27;),\n",
       "             param_grid={&#x27;C&#x27;: array([1.00000000e-05, 3.35981829e-05, 1.12883789e-04, 3.79269019e-04,\n",
       "       1.27427499e-03, 4.28133240e-03, 1.43844989e-02, 4.83293024e-02,\n",
       "       1.62377674e-01, 5.45559478e-01, 1.83298071e+00, 6.15848211e+00,\n",
       "       2.06913808e+01, 6.95192796e+01, 2.33572147e+02, 7.84759970e+02,\n",
       "       2.63665090e+03, 8.85866790e+03, 2.97635144e+04, 1.00000000e+05]),\n",
       "                         &#x27;penalty&#x27;: [&#x27;l1&#x27;, &#x27;l2&#x27;]})</pre></div></div></div><div class=\"sk-parallel\"><div class=\"sk-parallel-item\"><div class=\"sk-item\"><div class=\"sk-label-container\"><div class=\"sk-label sk-toggleable\"><input class=\"sk-toggleable__control sk-hidden--visually\" id=\"sk-estimator-id-3\" type=\"checkbox\" ><label for=\"sk-estimator-id-3\" class=\"sk-toggleable__label sk-toggleable__label-arrow\">estimator: LogisticRegression</label><div class=\"sk-toggleable__content\"><pre>LogisticRegression(class_weight={0: 0.65, 1: 2.1666666666666665},\n",
       "                   random_state=20230703, solver=&#x27;liblinear&#x27;)</pre></div></div></div><div class=\"sk-serial\"><div class=\"sk-item\"><div class=\"sk-estimator sk-toggleable\"><input class=\"sk-toggleable__control sk-hidden--visually\" id=\"sk-estimator-id-4\" type=\"checkbox\" ><label for=\"sk-estimator-id-4\" class=\"sk-toggleable__label sk-toggleable__label-arrow\">LogisticRegression</label><div class=\"sk-toggleable__content\"><pre>LogisticRegression(class_weight={0: 0.65, 1: 2.1666666666666665},\n",
       "                   random_state=20230703, solver=&#x27;liblinear&#x27;)</pre></div></div></div></div></div></div></div></div></div></div>"
      ],
      "text/plain": [
       "GridSearchCV(cv=5,\n",
       "             estimator=LogisticRegression(class_weight={0: 0.65,\n",
       "                                                        1: 2.1666666666666665},\n",
       "                                          random_state=20230703,\n",
       "                                          solver='liblinear'),\n",
       "             param_grid={'C': array([1.00000000e-05, 3.35981829e-05, 1.12883789e-04, 3.79269019e-04,\n",
       "       1.27427499e-03, 4.28133240e-03, 1.43844989e-02, 4.83293024e-02,\n",
       "       1.62377674e-01, 5.45559478e-01, 1.83298071e+00, 6.15848211e+00,\n",
       "       2.06913808e+01, 6.95192796e+01, 2.33572147e+02, 7.84759970e+02,\n",
       "       2.63665090e+03, 8.85866790e+03, 2.97635144e+04, 1.00000000e+05]),\n",
       "                         'penalty': ['l1', 'l2']})"
      ]
     },
     "execution_count": 21,
     "metadata": {},
     "output_type": "execute_result"
    }
   ],
   "source": [
    "logreg_cv.fit(X = X_res,\n",
    "              y = y_res)"
   ]
  },
  {
   "cell_type": "code",
   "execution_count": 22,
   "metadata": {},
   "outputs": [
    {
     "data": {
      "text/plain": [
       "{'C': 0.5455594781168515, 'penalty': 'l1'}"
      ]
     },
     "execution_count": 22,
     "metadata": {},
     "output_type": "execute_result"
    }
   ],
   "source": [
    "logreg_cv.best_params_"
   ]
  },
  {
   "cell_type": "code",
   "execution_count": 23,
   "metadata": {},
   "outputs": [
    {
     "data": {
      "text/html": [
       "<style>#sk-container-id-3 {color: black;background-color: white;}#sk-container-id-3 pre{padding: 0;}#sk-container-id-3 div.sk-toggleable {background-color: white;}#sk-container-id-3 label.sk-toggleable__label {cursor: pointer;display: block;width: 100%;margin-bottom: 0;padding: 0.3em;box-sizing: border-box;text-align: center;}#sk-container-id-3 label.sk-toggleable__label-arrow:before {content: \"▸\";float: left;margin-right: 0.25em;color: #696969;}#sk-container-id-3 label.sk-toggleable__label-arrow:hover:before {color: black;}#sk-container-id-3 div.sk-estimator:hover label.sk-toggleable__label-arrow:before {color: black;}#sk-container-id-3 div.sk-toggleable__content {max-height: 0;max-width: 0;overflow: hidden;text-align: left;background-color: #f0f8ff;}#sk-container-id-3 div.sk-toggleable__content pre {margin: 0.2em;color: black;border-radius: 0.25em;background-color: #f0f8ff;}#sk-container-id-3 input.sk-toggleable__control:checked~div.sk-toggleable__content {max-height: 200px;max-width: 100%;overflow: auto;}#sk-container-id-3 input.sk-toggleable__control:checked~label.sk-toggleable__label-arrow:before {content: \"▾\";}#sk-container-id-3 div.sk-estimator input.sk-toggleable__control:checked~label.sk-toggleable__label {background-color: #d4ebff;}#sk-container-id-3 div.sk-label input.sk-toggleable__control:checked~label.sk-toggleable__label {background-color: #d4ebff;}#sk-container-id-3 input.sk-hidden--visually {border: 0;clip: rect(1px 1px 1px 1px);clip: rect(1px, 1px, 1px, 1px);height: 1px;margin: -1px;overflow: hidden;padding: 0;position: absolute;width: 1px;}#sk-container-id-3 div.sk-estimator {font-family: monospace;background-color: #f0f8ff;border: 1px dotted black;border-radius: 0.25em;box-sizing: border-box;margin-bottom: 0.5em;}#sk-container-id-3 div.sk-estimator:hover {background-color: #d4ebff;}#sk-container-id-3 div.sk-parallel-item::after {content: \"\";width: 100%;border-bottom: 1px solid gray;flex-grow: 1;}#sk-container-id-3 div.sk-label:hover label.sk-toggleable__label {background-color: #d4ebff;}#sk-container-id-3 div.sk-serial::before {content: \"\";position: absolute;border-left: 1px solid gray;box-sizing: border-box;top: 0;bottom: 0;left: 50%;z-index: 0;}#sk-container-id-3 div.sk-serial {display: flex;flex-direction: column;align-items: center;background-color: white;padding-right: 0.2em;padding-left: 0.2em;position: relative;}#sk-container-id-3 div.sk-item {position: relative;z-index: 1;}#sk-container-id-3 div.sk-parallel {display: flex;align-items: stretch;justify-content: center;background-color: white;position: relative;}#sk-container-id-3 div.sk-item::before, #sk-container-id-3 div.sk-parallel-item::before {content: \"\";position: absolute;border-left: 1px solid gray;box-sizing: border-box;top: 0;bottom: 0;left: 50%;z-index: -1;}#sk-container-id-3 div.sk-parallel-item {display: flex;flex-direction: column;z-index: 1;position: relative;background-color: white;}#sk-container-id-3 div.sk-parallel-item:first-child::after {align-self: flex-end;width: 50%;}#sk-container-id-3 div.sk-parallel-item:last-child::after {align-self: flex-start;width: 50%;}#sk-container-id-3 div.sk-parallel-item:only-child::after {width: 0;}#sk-container-id-3 div.sk-dashed-wrapped {border: 1px dashed gray;margin: 0 0.4em 0.5em 0.4em;box-sizing: border-box;padding-bottom: 0.4em;background-color: white;}#sk-container-id-3 div.sk-label label {font-family: monospace;font-weight: bold;display: inline-block;line-height: 1.2em;}#sk-container-id-3 div.sk-label-container {text-align: center;}#sk-container-id-3 div.sk-container {/* jupyter's `normalize.less` sets `[hidden] { display: none; }` but bootstrap.min.css set `[hidden] { display: none !important; }` so we also need the `!important` here to be able to override the default hidden behavior on the sphinx rendered scikit-learn.org. See: https://github.com/scikit-learn/scikit-learn/issues/21755 */display: inline-block !important;position: relative;}#sk-container-id-3 div.sk-text-repr-fallback {display: none;}</style><div id=\"sk-container-id-3\" class=\"sk-top-container\"><div class=\"sk-text-repr-fallback\"><pre>LogisticRegression(C=0.5455594781168515,\n",
       "                   class_weight={0: 0.65, 1: 2.1666666666666665}, penalty=&#x27;l1&#x27;,\n",
       "                   random_state=20230703, solver=&#x27;liblinear&#x27;)</pre><b>In a Jupyter environment, please rerun this cell to show the HTML representation or trust the notebook. <br />On GitHub, the HTML representation is unable to render, please try loading this page with nbviewer.org.</b></div><div class=\"sk-container\" hidden><div class=\"sk-item\"><div class=\"sk-estimator sk-toggleable\"><input class=\"sk-toggleable__control sk-hidden--visually\" id=\"sk-estimator-id-5\" type=\"checkbox\" checked><label for=\"sk-estimator-id-5\" class=\"sk-toggleable__label sk-toggleable__label-arrow\">LogisticRegression</label><div class=\"sk-toggleable__content\"><pre>LogisticRegression(C=0.5455594781168515,\n",
       "                   class_weight={0: 0.65, 1: 2.1666666666666665}, penalty=&#x27;l1&#x27;,\n",
       "                   random_state=20230703, solver=&#x27;liblinear&#x27;)</pre></div></div></div></div></div>"
      ],
      "text/plain": [
       "LogisticRegression(C=0.5455594781168515,\n",
       "                   class_weight={0: 0.65, 1: 2.1666666666666665}, penalty='l1',\n",
       "                   random_state=20230703, solver='liblinear')"
      ]
     },
     "execution_count": 23,
     "metadata": {},
     "output_type": "execute_result"
    }
   ],
   "source": [
    "# best model\n",
    "logreg_best = LogisticRegression(penalty = logreg_cv.best_params_[\"penalty\"],\n",
    "                                 C = logreg_cv.best_params_[\"C\"],\n",
    "                                 class_weight = dict(class_weight),\n",
    "                                 solver = \"liblinear\",\n",
    "                                 random_state = 20230703)\n",
    "\n",
    "# logreg_personal_best = LogisticRegression(solver = \"liblinear\",\n",
    "#                                           random_state = 20230703)\n",
    "\n",
    "# Fit model\n",
    "logreg_best.fit(X_res, y_res)"
   ]
  },
  {
   "cell_type": "code",
   "execution_count": 24,
   "metadata": {},
   "outputs": [
    {
     "data": {
      "text/plain": [
       "array([[-0.38403149, -0.27950472,  0.39604509, -0.05292861, -0.24098179,\n",
       "         0.178427  ,  0.52299933,  0.15684714,  0.32809351,  0.02229547,\n",
       "        -0.05842351, -0.16764379,  0.80990708, -0.1947062 ]])"
      ]
     },
     "execution_count": 24,
     "metadata": {},
     "output_type": "execute_result"
    }
   ],
   "source": [
    "logreg_best.coef_"
   ]
  },
  {
   "cell_type": "code",
   "execution_count": 25,
   "metadata": {},
   "outputs": [],
   "source": [
    "y_train_pred_proba = logreg_best.predict_proba(X_train_scaled)"
   ]
  },
  {
   "cell_type": "code",
   "execution_count": 26,
   "metadata": {},
   "outputs": [
    {
     "data": {
      "text/plain": [
       "array([[0.80522812, 0.19477188],\n",
       "       [0.80912116, 0.19087884],\n",
       "       [0.20859341, 0.79140659],\n",
       "       ...,\n",
       "       [0.94134427, 0.05865573],\n",
       "       [0.42666648, 0.57333352],\n",
       "       [0.92380525, 0.07619475]])"
      ]
     },
     "execution_count": 26,
     "metadata": {},
     "output_type": "execute_result"
    }
   ],
   "source": [
    "y_train_pred_proba"
   ]
  },
  {
   "cell_type": "code",
   "execution_count": 27,
   "metadata": {},
   "outputs": [
    {
     "data": {
      "image/png": "[encoded data removed]",
      "text/plain": [
       "<Figure size 640x480 with 1 Axes>"
      ]
     },
     "metadata": {},
     "output_type": "display_data"
    }
   ],
   "source": [
    "# ROC Curve\n",
    "from sklearn.metrics import roc_curve\n",
    "from sklearn.metrics import auc\n",
    "\n",
    "fpr_lr, tpr_lr, threshold_lr = roc_curve(y_train,\n",
    "                                         y_train_pred_proba[:, 1])\n",
    "roc_auc_lr = auc(fpr_lr, tpr_lr)\n",
    "\n",
    "plt.title('Receiver Operating Characteristic (Train Data)')\n",
    "plt.plot(fpr_lr, tpr_lr, 'b', label = 'AUC = %0.2f' % roc_auc_lr)\n",
    "plt.legend(loc = 'lower right')\n",
    "plt.plot([0, 1], [0, 1],'r--')\n",
    "plt.xlim([0, 1])\n",
    "plt.ylim([0, 1])\n",
    "plt.ylabel('True Positive Rate')\n",
    "plt.xlabel('False Positive Rate')\n",
    "plt.show()"
   ]
  },
  {
   "cell_type": "code",
   "execution_count": 28,
   "metadata": {},
   "outputs": [],
   "source": [
    "X_test = pd.read_csv(\"data/X_test.csv\", index_col=0)\n",
    "y_test = pd.read_csv(\"data/y_test.csv\", index_col=0).squeeze()\n",
    "\n",
    "X_test[\"LogMonthlyIncome\"] = np.log(X_test[\"MonthlyIncome\"]+1)\n",
    "\n",
    "X_test[\"LogLogRevolvingUtilizationOfUnsecuredLines\"] = np.log(np.log(X_test[\"RevolvingUtilizationOfUnsecuredLines\"]+1)+1)\n",
    "\n",
    "X_test[\"LogDebtRatio\"] = np.log(X_test[\"DebtRatio\"]+1e-05)\n",
    "\n",
    "X_test_scaled = scaler_transform(data = X_test,\n",
    "                                 scaler = scaler)\n",
    "\n",
    "y_test_pred_proba = logreg_best.predict_proba(X_test_scaled)"
   ]
  },
  {
   "cell_type": "code",
   "execution_count": 29,
   "metadata": {},
   "outputs": [
    {
     "data": {
      "image/png": "[encoded data removed]",
      "text/plain": [
       "<Figure size 640x480 with 1 Axes>"
      ]
     },
     "metadata": {},
     "output_type": "display_data"
    }
   ],
   "source": [
    "fpr_lr, tpr_lr, threshold_lr = roc_curve(y_test,\n",
    "                                         y_test_pred_proba[:, 1])\n",
    "roc_auc_lr = auc(fpr_lr, tpr_lr)\n",
    "\n",
    "plt.title('Receiver Operating Characteristic (Test Data)')\n",
    "plt.plot(fpr_lr, tpr_lr, 'b', label = 'AUC = %0.2f' % roc_auc_lr)\n",
    "plt.legend(loc = 'lower right')\n",
    "plt.plot([0, 1], [0, 1],'r--')\n",
    "plt.xlim([0, 1])\n",
    "plt.ylim([0, 1])\n",
    "plt.ylabel('True Positive Rate')\n",
    "plt.xlabel('False Positive Rate')\n",
    "plt.show()"
   ]
  },
  {
   "cell_type": "code",
   "execution_count": 30,
   "metadata": {},
   "outputs": [
    {
     "name": "stdout",
     "output_type": "stream",
     "text": [
      "              precision    recall  f1-score   support\n",
      "\n",
      "    Approved       0.98      0.80      0.88     27877\n",
      "    Rejected       0.21      0.76      0.33      2002\n",
      "\n",
      "    accuracy                           0.80     29879\n",
      "   macro avg       0.60      0.78      0.61     29879\n",
      "weighted avg       0.93      0.80      0.84     29879\n",
      "\n"
     ]
    }
   ],
   "source": [
    "# Classification report\n",
    "from sklearn.metrics import classification_report\n",
    "\n",
    "y_pred_test = (y_test_pred_proba[:,1] >= 0.5)  # for example, threshold = 0.5\n",
    "\n",
    "print(classification_report(y_true = y_test,\n",
    "                            y_pred = y_pred_test,\n",
    "                            target_names = [\"Approved\", \"Rejected\"]))"
   ]
  },
  {
   "cell_type": "code",
   "execution_count": 31,
   "metadata": {},
   "outputs": [],
   "source": [
    "# Export model to pickle\n",
    "\n",
    "import pickle\n",
    "\n",
    "# Saving model to pickle file\n",
    "with open(\"api/model/model1.pkl\", \"wb\") as file:\n",
    "    pickle.dump(logreg_best, file)\n",
    "\n",
    "# Saving scaler to pickle file\n",
    "with open(\"api/model/scaler1.pkl\", \"wb\") as file:\n",
    "    pickle.dump(scaler, file)"
   ]
  },
  {
   "cell_type": "code",
   "execution_count": 32,
   "metadata": {},
   "outputs": [
    {
     "data": {
      "text/plain": [
       "Index(['RevolvingUtilizationOfUnsecuredLines', 'age',\n",
       "       'NumberOfTime30-59DaysPastDueNotWorse', 'DebtRatio', 'MonthlyIncome',\n",
       "       'NumberOfOpenCreditLinesAndLoans', 'NumberOfTimes90DaysLate',\n",
       "       'NumberRealEstateLoansOrLines', 'NumberOfTime60-89DaysPastDueNotWorse',\n",
       "       'NumberOfDependents', 'TypeCustomer', 'LogMonthlyIncome',\n",
       "       'LogLogRevolvingUtilizationOfUnsecuredLines', 'LogDebtRatio'],\n",
       "      dtype='object')"
      ]
     },
     "execution_count": 32,
     "metadata": {},
     "output_type": "execute_result"
    }
   ],
   "source": [
    "X_train.columns"
   ]
  },
  {
   "cell_type": "code",
   "execution_count": 32,
   "metadata": {},
   "outputs": [
    {
     "name": "stdout",
     "output_type": "stream",
     "text": [
      "RevolvingUtilizationOfUnsecuredLines: -0.3840314873017878\n",
      "age: -0.27950472190514053\n",
      "NumberOfTime30-59DaysPastDueNotWorse: 0.39604508671394717\n",
      "DebtRatio: -0.0529286138497249\n",
      "MonthlyIncome: -0.24098178628686692\n",
      "NumberOfOpenCreditLinesAndLoans: 0.17842700494414154\n",
      "NumberOfTimes90DaysLate: 0.5229993257098962\n",
      "NumberRealEstateLoansOrLines: 0.15684714352195817\n",
      "NumberOfTime60-89DaysPastDueNotWorse: 0.3280935134635365\n",
      "NumberOfDependents: 0.022295465000570315\n",
      "TypeCustomer: -0.05842351236334499\n",
      "LogMonthlyIncome: -0.16764379169988508\n",
      "LogLogRevolvingUtilizationOfUnsecuredLines: 0.8099070825793482\n",
      "LogDebtRatio: -0.19470619790504778\n"
     ]
    }
   ],
   "source": [
    "for i, val in enumerate(logreg_best.coef_.T):\n",
    "    print(f'{X_train.columns[i]}: {logreg_best.coef_[0,i]}')"
   ]
  },
  {
   "cell_type": "code",
   "execution_count": 94,
   "metadata": {},
   "outputs": [
    {
     "data": {
      "text/html": [
       "<div>\n",
       "<style scoped>\n",
       "    .dataframe tbody tr th:only-of-type {\n",
       "        vertical-align: middle;\n",
       "    }\n",
       "\n",
       "    .dataframe tbody tr th {\n",
       "        vertical-align: top;\n",
       "    }\n",
       "\n",
       "    .dataframe thead th {\n",
       "        text-align: right;\n",
       "    }\n",
       "</style>\n",
       "<table border=\"1\" class=\"dataframe\">\n",
       "  <thead>\n",
       "    <tr style=\"text-align: right;\">\n",
       "      <th></th>\n",
       "      <th>RevolvingUtilizationOfUnsecuredLines</th>\n",
       "      <th>age</th>\n",
       "      <th>NumberOfTime30-59DaysPastDueNotWorse</th>\n",
       "      <th>DebtRatio</th>\n",
       "      <th>MonthlyIncome</th>\n",
       "      <th>NumberOfOpenCreditLinesAndLoans</th>\n",
       "      <th>NumberOfTimes90DaysLate</th>\n",
       "      <th>NumberRealEstateLoansOrLines</th>\n",
       "      <th>NumberOfTime60-89DaysPastDueNotWorse</th>\n",
       "      <th>NumberOfDependents</th>\n",
       "    </tr>\n",
       "  </thead>\n",
       "  <tbody>\n",
       "    <tr>\n",
       "      <th>0</th>\n",
       "      <td>0.885519</td>\n",
       "      <td>43</td>\n",
       "      <td>0</td>\n",
       "      <td>0.177513</td>\n",
       "      <td>5700.0</td>\n",
       "      <td>4</td>\n",
       "      <td>0</td>\n",
       "      <td>0</td>\n",
       "      <td>0</td>\n",
       "      <td>0.0</td>\n",
       "    </tr>\n",
       "    <tr>\n",
       "      <th>1</th>\n",
       "      <td>0.463295</td>\n",
       "      <td>57</td>\n",
       "      <td>0</td>\n",
       "      <td>0.527237</td>\n",
       "      <td>9141.0</td>\n",
       "      <td>15</td>\n",
       "      <td>0</td>\n",
       "      <td>4</td>\n",
       "      <td>0</td>\n",
       "      <td>2.0</td>\n",
       "    </tr>\n",
       "    <tr>\n",
       "      <th>2</th>\n",
       "      <td>0.043275</td>\n",
       "      <td>59</td>\n",
       "      <td>0</td>\n",
       "      <td>0.687648</td>\n",
       "      <td>5083.0</td>\n",
       "      <td>12</td>\n",
       "      <td>0</td>\n",
       "      <td>1</td>\n",
       "      <td>0</td>\n",
       "      <td>2.0</td>\n",
       "    </tr>\n",
       "    <tr>\n",
       "      <th>3</th>\n",
       "      <td>0.280308</td>\n",
       "      <td>38</td>\n",
       "      <td>1</td>\n",
       "      <td>0.925961</td>\n",
       "      <td>3200.0</td>\n",
       "      <td>7</td>\n",
       "      <td>0</td>\n",
       "      <td>2</td>\n",
       "      <td>0</td>\n",
       "      <td>0.0</td>\n",
       "    </tr>\n",
       "    <tr>\n",
       "      <th>4</th>\n",
       "      <td>1.000000</td>\n",
       "      <td>27</td>\n",
       "      <td>0</td>\n",
       "      <td>0.019917</td>\n",
       "      <td>3865.0</td>\n",
       "      <td>4</td>\n",
       "      <td>0</td>\n",
       "      <td>0</td>\n",
       "      <td>0</td>\n",
       "      <td>1.0</td>\n",
       "    </tr>\n",
       "  </tbody>\n",
       "</table>\n",
       "</div>"
      ],
      "text/plain": [
       "   RevolvingUtilizationOfUnsecuredLines  age  \\\n",
       "0                              0.885519   43   \n",
       "1                              0.463295   57   \n",
       "2                              0.043275   59   \n",
       "3                              0.280308   38   \n",
       "4                              1.000000   27   \n",
       "\n",
       "   NumberOfTime30-59DaysPastDueNotWorse  DebtRatio  MonthlyIncome  \\\n",
       "0                                     0   0.177513         5700.0   \n",
       "1                                     0   0.527237         9141.0   \n",
       "2                                     0   0.687648         5083.0   \n",
       "3                                     1   0.925961         3200.0   \n",
       "4                                     0   0.019917         3865.0   \n",
       "\n",
       "   NumberOfOpenCreditLinesAndLoans  NumberOfTimes90DaysLate  \\\n",
       "0                                4                        0   \n",
       "1                               15                        0   \n",
       "2                               12                        0   \n",
       "3                                7                        0   \n",
       "4                                4                        0   \n",
       "\n",
       "   NumberRealEstateLoansOrLines  NumberOfTime60-89DaysPastDueNotWorse  \\\n",
       "0                             0                                     0   \n",
       "1                             4                                     0   \n",
       "2                             1                                     0   \n",
       "3                             2                                     0   \n",
       "4                             0                                     0   \n",
       "\n",
       "   NumberOfDependents  \n",
       "0                 0.0  \n",
       "1                 2.0  \n",
       "2                 2.0  \n",
       "3                 0.0  \n",
       "4                 1.0  "
      ]
     },
     "execution_count": 94,
     "metadata": {},
     "output_type": "execute_result"
    }
   ],
   "source": [
    "X_validation = pd.read_csv(\"data/cs-test.csv\")\n",
    "X_validation.drop(columns=[\"Unnamed: 0\", \"SeriousDlqin2yrs\"], \n",
    "                  inplace=True)\n",
    "X_validation.head()"
   ]
  },
  {
   "cell_type": "code",
   "execution_count": 95,
   "metadata": {},
   "outputs": [],
   "source": [
    "null_income = X_validation[\"MonthlyIncome\"].isna()\n",
    "X_validation[\"TypeCustomer\"] = np.where(null_income, 1, 0)\n",
    "# 1 is Business\n",
    "# 0 is Personal\n",
    "X_validation[\"MonthlyIncome\"] = X_validation[\"MonthlyIncome\"].fillna(0) # fill 0 income for Business\n",
    "\n",
    "X_validation[\"NumberOfDependents\"] = X_validation[\"NumberOfDependents\"].fillna(0) # impute missing values"
   ]
  },
  {
   "cell_type": "code",
   "execution_count": 96,
   "metadata": {},
   "outputs": [],
   "source": [
    "num_30_past_mode = float(X_validation[\"NumberOfTime30-59DaysPastDueNotWorse\"].mode())\n",
    "col = \"NumberOfTime30-59DaysPastDueNotWorse\"\n",
    "\n",
    "for dataset in [X_validation]:\n",
    "    dataset[col] = np.where(dataset[col] > 20,\n",
    "                            num_30_past_mode, \n",
    "                            dataset[col])"
   ]
  },
  {
   "cell_type": "code",
   "execution_count": 97,
   "metadata": {},
   "outputs": [],
   "source": [
    "num_60_past_mode = float(X_validation[\"NumberOfTime60-89DaysPastDueNotWorse\"].mode())\n",
    "col = \"NumberOfTime60-89DaysPastDueNotWorse\"\n",
    "\n",
    "for dataset in [X_validation]:\n",
    "    dataset[col] = np.where(dataset[col] > 20,\n",
    "                            num_60_past_mode, \n",
    "                            dataset[col])"
   ]
  },
  {
   "cell_type": "code",
   "execution_count": 98,
   "metadata": {},
   "outputs": [],
   "source": [
    "num_90_past_mode = float(X_train[\"NumberOfTimes90DaysLate\"].mode())\n",
    "col =\"NumberOfTimes90DaysLate\"\n",
    "\n",
    "for dataset in [X_validation]:\n",
    "    dataset[col] = np.where(dataset[col] > 20,\n",
    "                            num_90_past_mode, \n",
    "                            dataset[col])"
   ]
  },
  {
   "cell_type": "code",
   "execution_count": 99,
   "metadata": {},
   "outputs": [
    {
     "name": "stdout",
     "output_type": "stream",
     "text": [
      "<class 'pandas.core.frame.DataFrame'>\n",
      "RangeIndex: 101503 entries, 0 to 101502\n",
      "Data columns (total 11 columns):\n",
      " #   Column                                Non-Null Count   Dtype  \n",
      "---  ------                                --------------   -----  \n",
      " 0   RevolvingUtilizationOfUnsecuredLines  101503 non-null  float64\n",
      " 1   age                                   101503 non-null  int64  \n",
      " 2   NumberOfTime30-59DaysPastDueNotWorse  101503 non-null  float64\n",
      " 3   DebtRatio                             101503 non-null  float64\n",
      " 4   MonthlyIncome                         101503 non-null  float64\n",
      " 5   NumberOfOpenCreditLinesAndLoans       101503 non-null  int64  \n",
      " 6   NumberOfTimes90DaysLate               101503 non-null  float64\n",
      " 7   NumberRealEstateLoansOrLines          101503 non-null  int64  \n",
      " 8   NumberOfTime60-89DaysPastDueNotWorse  101503 non-null  float64\n",
      " 9   NumberOfDependents                    101503 non-null  float64\n",
      " 10  TypeCustomer                          101503 non-null  int32  \n",
      "dtypes: float64(7), int32(1), int64(3)\n",
      "memory usage: 8.1 MB\n"
     ]
    }
   ],
   "source": [
    "X_validation.info()"
   ]
  },
  {
   "cell_type": "code",
   "execution_count": 100,
   "metadata": {},
   "outputs": [],
   "source": [
    "X_validation[\"LogMonthlyIncome\"] = np.log(X_validation[\"MonthlyIncome\"]+1)\n",
    "\n",
    "X_validation[\"LogLogRevolvingUtilizationOfUnsecuredLines\"] = np.log(np.log(X_validation[\"RevolvingUtilizationOfUnsecuredLines\"]+1)+1)\n",
    "\n",
    "X_validation[\"LogDebtRatio\"] = np.log(X_validation[\"DebtRatio\"]+1e-05)\n",
    "\n",
    "X_validation_scaled = scaler_transform(data = X_validation, scaler = scaler)\n",
    "\n",
    "y_validation_pred_proba = logreg_best.predict_proba(X_validation_scaled)[:,1]"
   ]
  },
  {
   "cell_type": "code",
   "execution_count": 101,
   "metadata": {},
   "outputs": [
    {
     "data": {
      "text/plain": [
       "array([0.50320761, 0.48061288, 0.15960492, ..., 0.09413663, 0.51222643,\n",
       "       0.45953446])"
      ]
     },
     "execution_count": 101,
     "metadata": {},
     "output_type": "execute_result"
    }
   ],
   "source": [
    "y_validation_pred_proba"
   ]
  },
  {
   "cell_type": "code",
   "execution_count": 102,
   "metadata": {},
   "outputs": [],
   "source": [
    "validation_proba = pd.Series(y_validation_pred_proba)\n",
    "validation_proba.index = pd.RangeIndex(start=1, stop=101504, step=1)"
   ]
  },
  {
   "cell_type": "code",
   "execution_count": 103,
   "metadata": {},
   "outputs": [],
   "source": [
    "validation_proba.to_csv(\"data/validation.csv\")"
   ]
  },
  {
   "cell_type": "code",
   "execution_count": 104,
   "metadata": {},
   "outputs": [
    {
     "data": {
      "text/plain": [
       "1         0.503208\n",
       "2         0.480613\n",
       "3         0.159605\n",
       "4         0.494322\n",
       "5         0.653372\n",
       "            ...   \n",
       "101499    0.385370\n",
       "101500    0.905806\n",
       "101501    0.094137\n",
       "101502    0.512226\n",
       "101503    0.459534\n",
       "Length: 101503, dtype: float64"
      ]
     },
     "execution_count": 104,
     "metadata": {},
     "output_type": "execute_result"
    }
   ],
   "source": [
    "validation_proba"
   ]
  },
  {
   "cell_type": "code",
   "execution_count": null,
   "metadata": {},
   "outputs": [],
   "source": []
  }
 ],
 "metadata": {
  "kernelspec": {
   "display_name": "Python 3 (ipykernel)",
   "language": "python",
   "name": "python3"
  },
  "language_info": {
   "codemirror_mode": {
    "name": "ipython",
    "version": 3
   },
   "file_extension": ".py",
   "mimetype": "text/x-python",
   "name": "python",
   "nbconvert_exporter": "python",
   "pygments_lexer": "ipython3",
   "version": "3.8.16"
  }
 },
 "nbformat": 4,
 "nbformat_minor": 4
}
