{
 "cells": [
  {
   "attachments": {},
   "cell_type": "markdown",
   "metadata": {},
   "source": [
    "# EDA & Data Preprocessing"
   ]
  },
  {
   "cell_type": "code",
   "execution_count": 1,
   "metadata": {},
   "outputs": [
    {
     "name": "stderr",
     "output_type": "stream",
     "text": [
      "C:\\Users\\muham\\AppData\\Roaming\\Python\\Python38\\site-packages\\pandas\\core\\computation\\expressions.py:20: UserWarning: Pandas requires version '2.7.3' or newer of 'numexpr' (version '2.7.1' currently installed).\n",
      "  from pandas.core.computation.check import NUMEXPR_INSTALLED\n"
     ]
    }
   ],
   "source": [
    "import numpy as np\n",
    "import pandas as pd\n",
    "import matplotlib.pyplot as plt\n",
    "import seaborn as sns\n",
    "from scipy import stats"
   ]
  },
  {
   "attachments": {},
   "cell_type": "markdown",
   "metadata": {},
   "source": [
    "# 0. Importing data"
   ]
  },
  {
   "attachments": {},
   "cell_type": "markdown",
   "metadata": {},
   "source": [
    "Data source: https://www.kaggle.com/competitions/GiveMeSomeCredit"
   ]
  },
  {
   "cell_type": "code",
   "execution_count": 2,
   "metadata": {},
   "outputs": [
    {
     "data": {
      "text/html": [
       "<div>\n",
       "<style scoped>\n",
       "    .dataframe tbody tr th:only-of-type {\n",
       "        vertical-align: middle;\n",
       "    }\n",
       "\n",
       "    .dataframe tbody tr th {\n",
       "        vertical-align: top;\n",
       "    }\n",
       "\n",
       "    .dataframe thead th {\n",
       "        text-align: right;\n",
       "    }\n",
       "</style>\n",
       "<table border=\"1\" class=\"dataframe\">\n",
       "  <thead>\n",
       "    <tr style=\"text-align: right;\">\n",
       "      <th></th>\n",
       "      <th>Unnamed: 0</th>\n",
       "      <th>SeriousDlqin2yrs</th>\n",
       "      <th>RevolvingUtilizationOfUnsecuredLines</th>\n",
       "      <th>age</th>\n",
       "      <th>NumberOfTime30-59DaysPastDueNotWorse</th>\n",
       "      <th>DebtRatio</th>\n",
       "      <th>MonthlyIncome</th>\n",
       "      <th>NumberOfOpenCreditLinesAndLoans</th>\n",
       "      <th>NumberOfTimes90DaysLate</th>\n",
       "      <th>NumberRealEstateLoansOrLines</th>\n",
       "      <th>NumberOfTime60-89DaysPastDueNotWorse</th>\n",
       "      <th>NumberOfDependents</th>\n",
       "    </tr>\n",
       "  </thead>\n",
       "  <tbody>\n",
       "    <tr>\n",
       "      <th>0</th>\n",
       "      <td>1</td>\n",
       "      <td>1</td>\n",
       "      <td>0.766127</td>\n",
       "      <td>45</td>\n",
       "      <td>2</td>\n",
       "      <td>0.802982</td>\n",
       "      <td>9120.0</td>\n",
       "      <td>13</td>\n",
       "      <td>0</td>\n",
       "      <td>6</td>\n",
       "      <td>0</td>\n",
       "      <td>2.0</td>\n",
       "    </tr>\n",
       "    <tr>\n",
       "      <th>1</th>\n",
       "      <td>2</td>\n",
       "      <td>0</td>\n",
       "      <td>0.957151</td>\n",
       "      <td>40</td>\n",
       "      <td>0</td>\n",
       "      <td>0.121876</td>\n",
       "      <td>2600.0</td>\n",
       "      <td>4</td>\n",
       "      <td>0</td>\n",
       "      <td>0</td>\n",
       "      <td>0</td>\n",
       "      <td>1.0</td>\n",
       "    </tr>\n",
       "    <tr>\n",
       "      <th>2</th>\n",
       "      <td>3</td>\n",
       "      <td>0</td>\n",
       "      <td>0.658180</td>\n",
       "      <td>38</td>\n",
       "      <td>1</td>\n",
       "      <td>0.085113</td>\n",
       "      <td>3042.0</td>\n",
       "      <td>2</td>\n",
       "      <td>1</td>\n",
       "      <td>0</td>\n",
       "      <td>0</td>\n",
       "      <td>0.0</td>\n",
       "    </tr>\n",
       "    <tr>\n",
       "      <th>3</th>\n",
       "      <td>4</td>\n",
       "      <td>0</td>\n",
       "      <td>0.233810</td>\n",
       "      <td>30</td>\n",
       "      <td>0</td>\n",
       "      <td>0.036050</td>\n",
       "      <td>3300.0</td>\n",
       "      <td>5</td>\n",
       "      <td>0</td>\n",
       "      <td>0</td>\n",
       "      <td>0</td>\n",
       "      <td>0.0</td>\n",
       "    </tr>\n",
       "    <tr>\n",
       "      <th>4</th>\n",
       "      <td>5</td>\n",
       "      <td>0</td>\n",
       "      <td>0.907239</td>\n",
       "      <td>49</td>\n",
       "      <td>1</td>\n",
       "      <td>0.024926</td>\n",
       "      <td>63588.0</td>\n",
       "      <td>7</td>\n",
       "      <td>0</td>\n",
       "      <td>1</td>\n",
       "      <td>0</td>\n",
       "      <td>0.0</td>\n",
       "    </tr>\n",
       "  </tbody>\n",
       "</table>\n",
       "</div>"
      ],
      "text/plain": [
       "   Unnamed: 0  SeriousDlqin2yrs  RevolvingUtilizationOfUnsecuredLines  age  \\\n",
       "0           1                 1                              0.766127   45   \n",
       "1           2                 0                              0.957151   40   \n",
       "2           3                 0                              0.658180   38   \n",
       "3           4                 0                              0.233810   30   \n",
       "4           5                 0                              0.907239   49   \n",
       "\n",
       "   NumberOfTime30-59DaysPastDueNotWorse  DebtRatio  MonthlyIncome  \\\n",
       "0                                     2   0.802982         9120.0   \n",
       "1                                     0   0.121876         2600.0   \n",
       "2                                     1   0.085113         3042.0   \n",
       "3                                     0   0.036050         3300.0   \n",
       "4                                     1   0.024926        63588.0   \n",
       "\n",
       "   NumberOfOpenCreditLinesAndLoans  NumberOfTimes90DaysLate  \\\n",
       "0                               13                        0   \n",
       "1                                4                        0   \n",
       "2                                2                        1   \n",
       "3                                5                        0   \n",
       "4                                7                        0   \n",
       "\n",
       "   NumberRealEstateLoansOrLines  NumberOfTime60-89DaysPastDueNotWorse  \\\n",
       "0                             6                                     0   \n",
       "1                             0                                     0   \n",
       "2                             0                                     0   \n",
       "3                             0                                     0   \n",
       "4                             1                                     0   \n",
       "\n",
       "   NumberOfDependents  \n",
       "0                 2.0  \n",
       "1                 1.0  \n",
       "2                 0.0  \n",
       "3                 0.0  \n",
       "4                 0.0  "
      ]
     },
     "execution_count": 2,
     "metadata": {},
     "output_type": "execute_result"
    }
   ],
   "source": [
    "credit_data = pd.read_csv(\"cs-training.csv\")\n",
    "credit_data.head()"
   ]
  },
  {
   "cell_type": "code",
   "execution_count": 3,
   "metadata": {},
   "outputs": [],
   "source": [
    "credit_data.drop(columns=['Unnamed: 0'], inplace=True)"
   ]
  },
  {
   "attachments": {},
   "cell_type": "markdown",
   "metadata": {},
   "source": [
    "# 1. Check the data"
   ]
  },
  {
   "cell_type": "code",
   "execution_count": 4,
   "metadata": {},
   "outputs": [
    {
     "name": "stdout",
     "output_type": "stream",
     "text": [
      "<class 'pandas.core.frame.DataFrame'>\n",
      "RangeIndex: 150000 entries, 0 to 149999\n",
      "Data columns (total 11 columns):\n",
      " #   Column                                Non-Null Count   Dtype  \n",
      "---  ------                                --------------   -----  \n",
      " 0   SeriousDlqin2yrs                      150000 non-null  int64  \n",
      " 1   RevolvingUtilizationOfUnsecuredLines  150000 non-null  float64\n",
      " 2   age                                   150000 non-null  int64  \n",
      " 3   NumberOfTime30-59DaysPastDueNotWorse  150000 non-null  int64  \n",
      " 4   DebtRatio                             150000 non-null  float64\n",
      " 5   MonthlyIncome                         120269 non-null  float64\n",
      " 6   NumberOfOpenCreditLinesAndLoans       150000 non-null  int64  \n",
      " 7   NumberOfTimes90DaysLate               150000 non-null  int64  \n",
      " 8   NumberRealEstateLoansOrLines          150000 non-null  int64  \n",
      " 9   NumberOfTime60-89DaysPastDueNotWorse  150000 non-null  int64  \n",
      " 10  NumberOfDependents                    146076 non-null  float64\n",
      "dtypes: float64(4), int64(7)\n",
      "memory usage: 12.6 MB\n"
     ]
    }
   ],
   "source": [
    "credit_data.info()"
   ]
  },
  {
   "cell_type": "code",
   "execution_count": 5,
   "metadata": {},
   "outputs": [
    {
     "data": {
      "text/html": [
       "<div>\n",
       "<style scoped>\n",
       "    .dataframe tbody tr th:only-of-type {\n",
       "        vertical-align: middle;\n",
       "    }\n",
       "\n",
       "    .dataframe tbody tr th {\n",
       "        vertical-align: top;\n",
       "    }\n",
       "\n",
       "    .dataframe thead th {\n",
       "        text-align: right;\n",
       "    }\n",
       "</style>\n",
       "<table border=\"1\" class=\"dataframe\">\n",
       "  <thead>\n",
       "    <tr style=\"text-align: right;\">\n",
       "      <th></th>\n",
       "      <th>SeriousDlqin2yrs</th>\n",
       "      <th>RevolvingUtilizationOfUnsecuredLines</th>\n",
       "      <th>age</th>\n",
       "      <th>NumberOfTime30-59DaysPastDueNotWorse</th>\n",
       "      <th>DebtRatio</th>\n",
       "      <th>MonthlyIncome</th>\n",
       "      <th>NumberOfOpenCreditLinesAndLoans</th>\n",
       "      <th>NumberOfTimes90DaysLate</th>\n",
       "      <th>NumberRealEstateLoansOrLines</th>\n",
       "      <th>NumberOfTime60-89DaysPastDueNotWorse</th>\n",
       "      <th>NumberOfDependents</th>\n",
       "    </tr>\n",
       "  </thead>\n",
       "  <tbody>\n",
       "    <tr>\n",
       "      <th>52</th>\n",
       "      <td>0</td>\n",
       "      <td>1.0</td>\n",
       "      <td>62</td>\n",
       "      <td>0</td>\n",
       "      <td>0.0</td>\n",
       "      <td>NaN</td>\n",
       "      <td>1</td>\n",
       "      <td>0</td>\n",
       "      <td>0</td>\n",
       "      <td>0</td>\n",
       "      <td>0.0</td>\n",
       "    </tr>\n",
       "    <tr>\n",
       "      <th>331</th>\n",
       "      <td>0</td>\n",
       "      <td>1.0</td>\n",
       "      <td>29</td>\n",
       "      <td>0</td>\n",
       "      <td>0.0</td>\n",
       "      <td>NaN</td>\n",
       "      <td>0</td>\n",
       "      <td>0</td>\n",
       "      <td>0</td>\n",
       "      <td>0</td>\n",
       "      <td>0.0</td>\n",
       "    </tr>\n",
       "    <tr>\n",
       "      <th>530</th>\n",
       "      <td>0</td>\n",
       "      <td>0.0</td>\n",
       "      <td>82</td>\n",
       "      <td>0</td>\n",
       "      <td>0.0</td>\n",
       "      <td>NaN</td>\n",
       "      <td>3</td>\n",
       "      <td>0</td>\n",
       "      <td>0</td>\n",
       "      <td>0</td>\n",
       "      <td>0.0</td>\n",
       "    </tr>\n",
       "    <tr>\n",
       "      <th>1250</th>\n",
       "      <td>0</td>\n",
       "      <td>0.0</td>\n",
       "      <td>84</td>\n",
       "      <td>0</td>\n",
       "      <td>0.0</td>\n",
       "      <td>NaN</td>\n",
       "      <td>1</td>\n",
       "      <td>0</td>\n",
       "      <td>0</td>\n",
       "      <td>0</td>\n",
       "      <td>0.0</td>\n",
       "    </tr>\n",
       "    <tr>\n",
       "      <th>1669</th>\n",
       "      <td>0</td>\n",
       "      <td>1.0</td>\n",
       "      <td>29</td>\n",
       "      <td>0</td>\n",
       "      <td>0.0</td>\n",
       "      <td>NaN</td>\n",
       "      <td>0</td>\n",
       "      <td>0</td>\n",
       "      <td>0</td>\n",
       "      <td>0</td>\n",
       "      <td>0.0</td>\n",
       "    </tr>\n",
       "    <tr>\n",
       "      <th>...</th>\n",
       "      <td>...</td>\n",
       "      <td>...</td>\n",
       "      <td>...</td>\n",
       "      <td>...</td>\n",
       "      <td>...</td>\n",
       "      <td>...</td>\n",
       "      <td>...</td>\n",
       "      <td>...</td>\n",
       "      <td>...</td>\n",
       "      <td>...</td>\n",
       "      <td>...</td>\n",
       "    </tr>\n",
       "    <tr>\n",
       "      <th>149139</th>\n",
       "      <td>0</td>\n",
       "      <td>0.0</td>\n",
       "      <td>77</td>\n",
       "      <td>0</td>\n",
       "      <td>0.0</td>\n",
       "      <td>NaN</td>\n",
       "      <td>2</td>\n",
       "      <td>0</td>\n",
       "      <td>0</td>\n",
       "      <td>0</td>\n",
       "      <td>0.0</td>\n",
       "    </tr>\n",
       "    <tr>\n",
       "      <th>149431</th>\n",
       "      <td>0</td>\n",
       "      <td>1.0</td>\n",
       "      <td>25</td>\n",
       "      <td>0</td>\n",
       "      <td>0.0</td>\n",
       "      <td>NaN</td>\n",
       "      <td>1</td>\n",
       "      <td>0</td>\n",
       "      <td>0</td>\n",
       "      <td>0</td>\n",
       "      <td>NaN</td>\n",
       "    </tr>\n",
       "    <tr>\n",
       "      <th>149472</th>\n",
       "      <td>0</td>\n",
       "      <td>1.0</td>\n",
       "      <td>84</td>\n",
       "      <td>0</td>\n",
       "      <td>0.0</td>\n",
       "      <td>NaN</td>\n",
       "      <td>1</td>\n",
       "      <td>0</td>\n",
       "      <td>0</td>\n",
       "      <td>0</td>\n",
       "      <td>0.0</td>\n",
       "    </tr>\n",
       "    <tr>\n",
       "      <th>149769</th>\n",
       "      <td>0</td>\n",
       "      <td>1.0</td>\n",
       "      <td>23</td>\n",
       "      <td>98</td>\n",
       "      <td>0.0</td>\n",
       "      <td>NaN</td>\n",
       "      <td>0</td>\n",
       "      <td>98</td>\n",
       "      <td>0</td>\n",
       "      <td>98</td>\n",
       "      <td>NaN</td>\n",
       "    </tr>\n",
       "    <tr>\n",
       "      <th>149993</th>\n",
       "      <td>0</td>\n",
       "      <td>1.0</td>\n",
       "      <td>22</td>\n",
       "      <td>0</td>\n",
       "      <td>0.0</td>\n",
       "      <td>820.0</td>\n",
       "      <td>1</td>\n",
       "      <td>0</td>\n",
       "      <td>0</td>\n",
       "      <td>0</td>\n",
       "      <td>0.0</td>\n",
       "    </tr>\n",
       "  </tbody>\n",
       "</table>\n",
       "<p>960 rows × 11 columns</p>\n",
       "</div>"
      ],
      "text/plain": [
       "        SeriousDlqin2yrs  RevolvingUtilizationOfUnsecuredLines  age  \\\n",
       "52                     0                                   1.0   62   \n",
       "331                    0                                   1.0   29   \n",
       "530                    0                                   0.0   82   \n",
       "1250                   0                                   0.0   84   \n",
       "1669                   0                                   1.0   29   \n",
       "...                  ...                                   ...  ...   \n",
       "149139                 0                                   0.0   77   \n",
       "149431                 0                                   1.0   25   \n",
       "149472                 0                                   1.0   84   \n",
       "149769                 0                                   1.0   23   \n",
       "149993                 0                                   1.0   22   \n",
       "\n",
       "        NumberOfTime30-59DaysPastDueNotWorse  DebtRatio  MonthlyIncome  \\\n",
       "52                                         0        0.0            NaN   \n",
       "331                                        0        0.0            NaN   \n",
       "530                                        0        0.0            NaN   \n",
       "1250                                       0        0.0            NaN   \n",
       "1669                                       0        0.0            NaN   \n",
       "...                                      ...        ...            ...   \n",
       "149139                                     0        0.0            NaN   \n",
       "149431                                     0        0.0            NaN   \n",
       "149472                                     0        0.0            NaN   \n",
       "149769                                    98        0.0            NaN   \n",
       "149993                                     0        0.0          820.0   \n",
       "\n",
       "        NumberOfOpenCreditLinesAndLoans  NumberOfTimes90DaysLate  \\\n",
       "52                                    1                        0   \n",
       "331                                   0                        0   \n",
       "530                                   3                        0   \n",
       "1250                                  1                        0   \n",
       "1669                                  0                        0   \n",
       "...                                 ...                      ...   \n",
       "149139                                2                        0   \n",
       "149431                                1                        0   \n",
       "149472                                1                        0   \n",
       "149769                                0                       98   \n",
       "149993                                1                        0   \n",
       "\n",
       "        NumberRealEstateLoansOrLines  NumberOfTime60-89DaysPastDueNotWorse  \\\n",
       "52                                 0                                     0   \n",
       "331                                0                                     0   \n",
       "530                                0                                     0   \n",
       "1250                               0                                     0   \n",
       "1669                               0                                     0   \n",
       "...                              ...                                   ...   \n",
       "149139                             0                                     0   \n",
       "149431                             0                                     0   \n",
       "149472                             0                                     0   \n",
       "149769                             0                                    98   \n",
       "149993                             0                                     0   \n",
       "\n",
       "        NumberOfDependents  \n",
       "52                     0.0  \n",
       "331                    0.0  \n",
       "530                    0.0  \n",
       "1250                   0.0  \n",
       "1669                   0.0  \n",
       "...                    ...  \n",
       "149139                 0.0  \n",
       "149431                 NaN  \n",
       "149472                 0.0  \n",
       "149769                 NaN  \n",
       "149993                 0.0  \n",
       "\n",
       "[960 rows x 11 columns]"
      ]
     },
     "execution_count": 5,
     "metadata": {},
     "output_type": "execute_result"
    }
   ],
   "source": [
    "# check for any duplicates\n",
    "\n",
    "credit_data[credit_data.duplicated(keep=False)]"
   ]
  },
  {
   "attachments": {},
   "cell_type": "markdown",
   "metadata": {},
   "source": [
    "There are null values in the MonthlyIncome and NumberOfDependents columns.\n",
    "\n",
    "There are duplicated observations."
   ]
  },
  {
   "cell_type": "code",
   "execution_count": 6,
   "metadata": {},
   "outputs": [],
   "source": [
    "credit_data.drop_duplicates(inplace=True)"
   ]
  },
  {
   "cell_type": "code",
   "execution_count": 7,
   "metadata": {},
   "outputs": [],
   "source": [
    "from sklearn.model_selection import train_test_split"
   ]
  },
  {
   "cell_type": "code",
   "execution_count": 8,
   "metadata": {},
   "outputs": [],
   "source": [
    "def split_input_output(data, target_column):\n",
    "    X = data.drop(columns = target_column)\n",
    "    y = data[target_column]\n",
    "\n",
    "    return X, y\n",
    "\n",
    "X, y = split_input_output(data = credit_data,\n",
    "                          target_column = \"SeriousDlqin2yrs\")"
   ]
  },
  {
   "cell_type": "code",
   "execution_count": 9,
   "metadata": {},
   "outputs": [
    {
     "data": {
      "text/plain": [
       "0.06699868131279663"
      ]
     },
     "execution_count": 9,
     "metadata": {},
     "output_type": "execute_result"
    }
   ],
   "source": [
    "# the proportion of rejected credit\n",
    "y.mean()"
   ]
  },
  {
   "cell_type": "code",
   "execution_count": 10,
   "metadata": {},
   "outputs": [],
   "source": [
    "# split into train & test\n",
    "X_train, X_test, y_train, y_test = train_test_split(X,\n",
    "                                                    y,\n",
    "                                                    test_size = 0.2,\n",
    "                                                    stratify = y,\n",
    "                                                    random_state = 20230703)"
   ]
  },
  {
   "attachments": {},
   "cell_type": "markdown",
   "metadata": {},
   "source": [
    "# 2. Cleaning the data"
   ]
  },
  {
   "attachments": {},
   "cell_type": "markdown",
   "metadata": {},
   "source": [
    "## 2(a) Treating NumberOfDependents"
   ]
  },
  {
   "attachments": {},
   "cell_type": "markdown",
   "metadata": {},
   "source": [
    "We will fill the NaN values on NumberOfDependents with its mode."
   ]
  },
  {
   "cell_type": "code",
   "execution_count": 11,
   "metadata": {},
   "outputs": [],
   "source": [
    "num_dependents_mode = float(X_train[\"NumberOfDependents\"].mode())"
   ]
  },
  {
   "cell_type": "code",
   "execution_count": 12,
   "metadata": {},
   "outputs": [
    {
     "data": {
      "text/plain": [
       "float"
      ]
     },
     "execution_count": 12,
     "metadata": {},
     "output_type": "execute_result"
    }
   ],
   "source": [
    "type(num_dependents_mode)"
   ]
  },
  {
   "cell_type": "code",
   "execution_count": 13,
   "metadata": {},
   "outputs": [],
   "source": [
    "#X_train.is_copy = False\n",
    "#X_test.is_copy = False\n",
    "\n",
    "col = \"NumberOfDependents\"\n",
    "\n",
    "for dataset in [X_train, X_test]:\n",
    "    dataset[col] = dataset[col].fillna(num_dependents_mode)"
   ]
  },
  {
   "cell_type": "code",
   "execution_count": 14,
   "metadata": {},
   "outputs": [
    {
     "name": "stdout",
     "output_type": "stream",
     "text": [
      "<class 'pandas.core.frame.DataFrame'>\n",
      "Int64Index: 119512 entries, 80307 to 140296\n",
      "Data columns (total 10 columns):\n",
      " #   Column                                Non-Null Count   Dtype  \n",
      "---  ------                                --------------   -----  \n",
      " 0   RevolvingUtilizationOfUnsecuredLines  119512 non-null  float64\n",
      " 1   age                                   119512 non-null  int64  \n",
      " 2   NumberOfTime30-59DaysPastDueNotWorse  119512 non-null  int64  \n",
      " 3   DebtRatio                             119512 non-null  float64\n",
      " 4   MonthlyIncome                         96160 non-null   float64\n",
      " 5   NumberOfOpenCreditLinesAndLoans       119512 non-null  int64  \n",
      " 6   NumberOfTimes90DaysLate               119512 non-null  int64  \n",
      " 7   NumberRealEstateLoansOrLines          119512 non-null  int64  \n",
      " 8   NumberOfTime60-89DaysPastDueNotWorse  119512 non-null  int64  \n",
      " 9   NumberOfDependents                    119512 non-null  float64\n",
      "dtypes: float64(4), int64(6)\n",
      "memory usage: 10.0 MB\n"
     ]
    }
   ],
   "source": [
    "X_train.info()"
   ]
  },
  {
   "attachments": {},
   "cell_type": "markdown",
   "metadata": {},
   "source": [
    "## 2(b) Treating MonthlyIncome"
   ]
  },
  {
   "attachments": {},
   "cell_type": "markdown",
   "metadata": {},
   "source": [
    "It seems that all customers with NaN MonthlyIncome have integer DebtRatio. But to calculate DebtRatio (which is equal to Monthly Debt Payments/Monthly Income), MonthlyIncome is needed. It is safe to assume that for these NaN MonthlyIncome customers, their DebtRatio is in reality just a rough estimate. \n",
    "\n",
    "Moreover, these NaN MonthlyIncome customers have large DebtRatio.\n",
    "\n",
    "Due to this, we may guess that these customers are actually businesses (with no exact monthly income), and that the customers with available MonthlyIncome are actually personal customers."
   ]
  },
  {
   "cell_type": "code",
   "execution_count": 15,
   "metadata": {},
   "outputs": [],
   "source": [
    "for data in [X_train, X_test, credit_data]:\n",
    "    null_income = data[\"MonthlyIncome\"].isna()\n",
    "    data[\"TypeCustomer\"] = np.where(null_income, 1, 0)\n",
    "    # 1 is Business\n",
    "    # 0 is Personal\n",
    "    data[\"MonthlyIncome\"] = data[\"MonthlyIncome\"].fillna(0) # fill 0 income for Business"
   ]
  },
  {
   "cell_type": "code",
   "execution_count": 16,
   "metadata": {},
   "outputs": [
    {
     "data": {
      "image/png": "[encoded data removed]",
      "text/plain": [
       "<Figure size 1008x288 with 2 Axes>"
      ]
     },
     "metadata": {
      "needs_background": "light"
     },
     "output_type": "display_data"
    }
   ],
   "source": [
    "pers = X_train[\"TypeCustomer\"] == 0\n",
    "personal = pers\n",
    "nonzero_dr = X_train[\"DebtRatio\"] > 0\n",
    "\n",
    "fig, ax = plt.subplots(1,2, figsize=(14,4))\n",
    "\n",
    "for i, dataset in enumerate([X_train, X_test]):\n",
    "    pers = dataset[\"TypeCustomer\"] == 0\n",
    "    personal = pers\n",
    "    nonzero_dr = dataset[\"DebtRatio\"] > 0\n",
    "\n",
    "    ax[i].hist(x=np.log(dataset[pers & nonzero_dr][\"DebtRatio\"]), bins=200, label='Personal')\n",
    "    ax[i].hist(x=np.log(dataset[~pers & nonzero_dr][\"DebtRatio\"]), bins=100, label='Business')\n",
    "    ax[i].legend()\n",
    "    \n",
    "ax[0].set_title(\"Log Debt Ratio Histogram (Train)\")\n",
    "ax[1].set_title(\"Log Debt Ratio Histogram (Test)\")\n",
    "plt.show()"
   ]
  },
  {
   "attachments": {},
   "cell_type": "markdown",
   "metadata": {},
   "source": [
    "Now let's try to fix other columns."
   ]
  },
  {
   "attachments": {},
   "cell_type": "markdown",
   "metadata": {},
   "source": [
    "## 2(c) Treating NumberOfTime30-59DaysPastDueNotWorse, NumberOfTime60-89DaysPastDueNotWorse & NumberOfTimes90DaysLate"
   ]
  },
  {
   "attachments": {},
   "cell_type": "markdown",
   "metadata": {},
   "source": [
    "For these columns, there are observations with extremely large values which doesn't make sense."
   ]
  },
  {
   "cell_type": "code",
   "execution_count": 17,
   "metadata": {},
   "outputs": [
    {
     "data": {
      "image/png": "[encoded data removed]",
      "text/plain": [
       "<Figure size 1008x288 with 2 Axes>"
      ]
     },
     "metadata": {
      "needs_background": "light"
     },
     "output_type": "display_data"
    }
   ],
   "source": [
    "fig, ax = plt.subplots(1,2, figsize=(14,4))\n",
    "\n",
    "for i, dataset in enumerate([X_train, X_test]):\n",
    "    sns.boxplot(data=dataset, x=\"NumberOfTime30-59DaysPastDueNotWorse\", ax=ax[i])\n",
    "    \n",
    "ax[0].set_title(\"Train\")\n",
    "ax[1].set_title(\"Test\")\n",
    "plt.show()"
   ]
  },
  {
   "cell_type": "code",
   "execution_count": 18,
   "metadata": {},
   "outputs": [
    {
     "data": {
      "text/plain": [
       "98"
      ]
     },
     "execution_count": 18,
     "metadata": {},
     "output_type": "execute_result"
    }
   ],
   "source": [
    "large_val = credit_data[\"NumberOfTime30-59DaysPastDueNotWorse\"].max()\n",
    "large_val"
   ]
  },
  {
   "cell_type": "code",
   "execution_count": 19,
   "metadata": {},
   "outputs": [
    {
     "data": {
      "text/plain": [
       "96"
      ]
     },
     "execution_count": 19,
     "metadata": {},
     "output_type": "execute_result"
    }
   ],
   "source": [
    "X_train[(X_train[\"NumberOfTime30-59DaysPastDueNotWorse\"] > 80)][\"NumberOfTime30-59DaysPastDueNotWorse\"].min()"
   ]
  },
  {
   "cell_type": "code",
   "execution_count": 20,
   "metadata": {},
   "outputs": [
    {
     "data": {
      "text/plain": [
       "21"
      ]
     },
     "execution_count": 20,
     "metadata": {},
     "output_type": "execute_result"
    }
   ],
   "source": [
    "large_val_obs = X_train[\"NumberOfTime30-59DaysPastDueNotWorse\"] > 80\n",
    "X_train[large_val_obs][\"age\"].min()"
   ]
  },
  {
   "attachments": {},
   "cell_type": "markdown",
   "metadata": {},
   "source": [
    "It doesn't make any sense for a 21-year-old to have 98 times of 30-59 days past payments $98\\times 30/365 = 8.05$; it doesn't make sense for a 21-year-old to have started making credit payment from the age 13. \n",
    "\n",
    "For these type of observations, we impute these large values with the mode (which is 0)."
   ]
  },
  {
   "cell_type": "code",
   "execution_count": 22,
   "metadata": {},
   "outputs": [],
   "source": [
    "num_30_past_mode = float(X_train[\"NumberOfTime30-59DaysPastDueNotWorse\"].mode())"
   ]
  },
  {
   "cell_type": "code",
   "execution_count": 23,
   "metadata": {},
   "outputs": [],
   "source": [
    "col = \"NumberOfTime30-59DaysPastDueNotWorse\"\n",
    "\n",
    "for dataset in [X_train, X_test, credit_data]:\n",
    "    dataset[col] = np.where(dataset[col] > 20,\n",
    "                            num_30_past_mode, \n",
    "                            dataset[col])"
   ]
  },
  {
   "cell_type": "code",
   "execution_count": 24,
   "metadata": {},
   "outputs": [
    {
     "data": {
      "image/png": "[encoded data removed]",
      "text/plain": [
       "<Figure size 1008x288 with 2 Axes>"
      ]
     },
     "metadata": {
      "needs_background": "light"
     },
     "output_type": "display_data"
    }
   ],
   "source": [
    "col = \"NumberOfTime60-89DaysPastDueNotWorse\"\n",
    "fig, ax = plt.subplots(1,2, figsize=(14,4))\n",
    "\n",
    "for i, dataset in enumerate([X_train, X_test]):\n",
    "    sns.boxplot(data=dataset, x=col, ax=ax[i])\n",
    "    \n",
    "ax[0].set_title(\"Train\")\n",
    "ax[1].set_title(\"Test\")\n",
    "plt.show()"
   ]
  },
  {
   "cell_type": "code",
   "execution_count": 25,
   "metadata": {},
   "outputs": [],
   "source": [
    "num_60_past_mode = float(X_train[\"NumberOfTime60-89DaysPastDueNotWorse\"].mode())"
   ]
  },
  {
   "cell_type": "code",
   "execution_count": 26,
   "metadata": {},
   "outputs": [],
   "source": [
    "col = \"NumberOfTime60-89DaysPastDueNotWorse\"\n",
    "\n",
    "for dataset in [X_train, X_test, credit_data]:\n",
    "    dataset[col] = np.where(dataset[col] > 20,\n",
    "                            num_60_past_mode, \n",
    "                            dataset[col])"
   ]
  },
  {
   "cell_type": "code",
   "execution_count": 27,
   "metadata": {},
   "outputs": [
    {
     "data": {
      "image/png": "[encoded data removed]",
      "text/plain": [
       "<Figure size 1008x288 with 2 Axes>"
      ]
     },
     "metadata": {
      "needs_background": "light"
     },
     "output_type": "display_data"
    }
   ],
   "source": [
    "col = \"NumberOfTimes90DaysLate\"\n",
    "fig, ax = plt.subplots(1,2, figsize=(14,4))\n",
    "\n",
    "for i, dataset in enumerate([X_train, X_test]):\n",
    "    sns.boxplot(data=dataset, x=col, ax=ax[i])\n",
    "    \n",
    "ax[0].set_title(\"Train\")\n",
    "ax[1].set_title(\"Test\")\n",
    "plt.show()"
   ]
  },
  {
   "cell_type": "code",
   "execution_count": 28,
   "metadata": {},
   "outputs": [],
   "source": [
    "num_90_past_mode = float(X_train[\"NumberOfTimes90DaysLate\"].mode())"
   ]
  },
  {
   "cell_type": "code",
   "execution_count": 29,
   "metadata": {},
   "outputs": [],
   "source": [
    "col =\"NumberOfTimes90DaysLate\"\n",
    "\n",
    "for dataset in [X_train, X_test, credit_data]:\n",
    "    dataset[col] = np.where(dataset[col] > 20,\n",
    "                            num_90_past_mode, \n",
    "                            dataset[col])"
   ]
  },
  {
   "attachments": {},
   "cell_type": "markdown",
   "metadata": {},
   "source": [
    "## 2(d) Treating Age"
   ]
  },
  {
   "cell_type": "code",
   "execution_count": 30,
   "metadata": {},
   "outputs": [
    {
     "data": {
      "image/png": "[encoded data removed]",
      "text/plain": [
       "<Figure size 1008x288 with 2 Axes>"
      ]
     },
     "metadata": {
      "needs_background": "light"
     },
     "output_type": "display_data"
    }
   ],
   "source": [
    "fig, ax = plt.subplots(1,2, figsize=(14,4))\n",
    "data_group = [\"Train\", \"Test\"]\n",
    "\n",
    "for i, dataset in enumerate([X_train, X_test]):\n",
    "    sns.boxplot(data=credit_data, x=\"age\", ax=ax[i])\n",
    "    ax[i].set_title(data_group[i])\n",
    "    \n",
    "plt.show()"
   ]
  },
  {
   "cell_type": "code",
   "execution_count": 31,
   "metadata": {},
   "outputs": [
    {
     "data": {
      "text/html": [
       "<div>\n",
       "<style scoped>\n",
       "    .dataframe tbody tr th:only-of-type {\n",
       "        vertical-align: middle;\n",
       "    }\n",
       "\n",
       "    .dataframe tbody tr th {\n",
       "        vertical-align: top;\n",
       "    }\n",
       "\n",
       "    .dataframe thead th {\n",
       "        text-align: right;\n",
       "    }\n",
       "</style>\n",
       "<table border=\"1\" class=\"dataframe\">\n",
       "  <thead>\n",
       "    <tr style=\"text-align: right;\">\n",
       "      <th></th>\n",
       "      <th>RevolvingUtilizationOfUnsecuredLines</th>\n",
       "      <th>age</th>\n",
       "      <th>NumberOfTime30-59DaysPastDueNotWorse</th>\n",
       "      <th>DebtRatio</th>\n",
       "      <th>MonthlyIncome</th>\n",
       "      <th>NumberOfOpenCreditLinesAndLoans</th>\n",
       "      <th>NumberOfTimes90DaysLate</th>\n",
       "      <th>NumberRealEstateLoansOrLines</th>\n",
       "      <th>NumberOfTime60-89DaysPastDueNotWorse</th>\n",
       "      <th>NumberOfDependents</th>\n",
       "      <th>TypeCustomer</th>\n",
       "    </tr>\n",
       "  </thead>\n",
       "  <tbody>\n",
       "    <tr>\n",
       "      <th>65695</th>\n",
       "      <td>1.0</td>\n",
       "      <td>0</td>\n",
       "      <td>1.0</td>\n",
       "      <td>0.436927</td>\n",
       "      <td>6000.0</td>\n",
       "      <td>6</td>\n",
       "      <td>0.0</td>\n",
       "      <td>2</td>\n",
       "      <td>0.0</td>\n",
       "      <td>2.0</td>\n",
       "      <td>0</td>\n",
       "    </tr>\n",
       "  </tbody>\n",
       "</table>\n",
       "</div>"
      ],
      "text/plain": [
       "       RevolvingUtilizationOfUnsecuredLines  age  \\\n",
       "65695                                   1.0    0   \n",
       "\n",
       "       NumberOfTime30-59DaysPastDueNotWorse  DebtRatio  MonthlyIncome  \\\n",
       "65695                                   1.0   0.436927         6000.0   \n",
       "\n",
       "       NumberOfOpenCreditLinesAndLoans  NumberOfTimes90DaysLate  \\\n",
       "65695                                6                      0.0   \n",
       "\n",
       "       NumberRealEstateLoansOrLines  NumberOfTime60-89DaysPastDueNotWorse  \\\n",
       "65695                             2                                   0.0   \n",
       "\n",
       "       NumberOfDependents  TypeCustomer  \n",
       "65695                 2.0             0  "
      ]
     },
     "execution_count": 31,
     "metadata": {},
     "output_type": "execute_result"
    }
   ],
   "source": [
    "X_train[X_train[\"age\"]==0]"
   ]
  },
  {
   "cell_type": "code",
   "execution_count": 32,
   "metadata": {},
   "outputs": [
    {
     "data": {
      "text/html": [
       "<div>\n",
       "<style scoped>\n",
       "    .dataframe tbody tr th:only-of-type {\n",
       "        vertical-align: middle;\n",
       "    }\n",
       "\n",
       "    .dataframe tbody tr th {\n",
       "        vertical-align: top;\n",
       "    }\n",
       "\n",
       "    .dataframe thead th {\n",
       "        text-align: right;\n",
       "    }\n",
       "</style>\n",
       "<table border=\"1\" class=\"dataframe\">\n",
       "  <thead>\n",
       "    <tr style=\"text-align: right;\">\n",
       "      <th></th>\n",
       "      <th>RevolvingUtilizationOfUnsecuredLines</th>\n",
       "      <th>age</th>\n",
       "      <th>NumberOfTime30-59DaysPastDueNotWorse</th>\n",
       "      <th>DebtRatio</th>\n",
       "      <th>MonthlyIncome</th>\n",
       "      <th>NumberOfOpenCreditLinesAndLoans</th>\n",
       "      <th>NumberOfTimes90DaysLate</th>\n",
       "      <th>NumberRealEstateLoansOrLines</th>\n",
       "      <th>NumberOfTime60-89DaysPastDueNotWorse</th>\n",
       "      <th>NumberOfDependents</th>\n",
       "      <th>TypeCustomer</th>\n",
       "    </tr>\n",
       "  </thead>\n",
       "  <tbody>\n",
       "  </tbody>\n",
       "</table>\n",
       "</div>"
      ],
      "text/plain": [
       "Empty DataFrame\n",
       "Columns: [RevolvingUtilizationOfUnsecuredLines, age, NumberOfTime30-59DaysPastDueNotWorse, DebtRatio, MonthlyIncome, NumberOfOpenCreditLinesAndLoans, NumberOfTimes90DaysLate, NumberRealEstateLoansOrLines, NumberOfTime60-89DaysPastDueNotWorse, NumberOfDependents, TypeCustomer]\n",
       "Index: []"
      ]
     },
     "execution_count": 32,
     "metadata": {},
     "output_type": "execute_result"
    }
   ],
   "source": [
    "X_test[X_test[\"age\"]==0]"
   ]
  },
  {
   "attachments": {},
   "cell_type": "markdown",
   "metadata": {},
   "source": [
    "It doesn't make sense for a newborn baby to have a monthly income & open credit lines. So we impute this age value with the median."
   ]
  },
  {
   "cell_type": "code",
   "execution_count": 33,
   "metadata": {},
   "outputs": [],
   "source": [
    "age_median = X_train[\"age\"].median()\n",
    "X_train[\"age\"].replace(0, age_median, inplace=True)\n",
    "credit_data[\"age\"].replace(0, age_median, inplace=True)"
   ]
  },
  {
   "cell_type": "code",
   "execution_count": 34,
   "metadata": {},
   "outputs": [],
   "source": [
    "# exporting X_train, y_train, X_test and y_test to csv\n",
    "\n",
    "X_train.to_csv(\"X_train.csv\")\n",
    "y_train.to_csv(\"y_train.csv\")\n",
    "\n",
    "X_test.to_csv(\"X_test.csv\")\n",
    "y_test.to_csv(\"y_test.csv\")"
   ]
  },
  {
   "attachments": {},
   "cell_type": "markdown",
   "metadata": {},
   "source": [
    "# 3. Saving train & test dataset"
   ]
  },
  {
   "cell_type": "code",
   "execution_count": 37,
   "metadata": {},
   "outputs": [],
   "source": [
    "X_business_train.to_csv(\"X_business_train.csv\")\n",
    "y_business_train.to_csv(\"y_business_train.csv\")\n",
    "\n",
    "X_business_test.to_csv(\"X_business_test.csv\")\n",
    "y_business_test.to_csv(\"y_business_test.csv\")"
   ]
  },
  {
   "attachments": {},
   "cell_type": "markdown",
   "metadata": {},
   "source": [
    "# 4. EDA"
   ]
  },
  {
   "cell_type": "code",
   "execution_count": 20,
   "metadata": {},
   "outputs": [
    {
     "data": {
      "text/html": [
       "<div>\n",
       "<style scoped>\n",
       "    .dataframe tbody tr th:only-of-type {\n",
       "        vertical-align: middle;\n",
       "    }\n",
       "\n",
       "    .dataframe tbody tr th {\n",
       "        vertical-align: top;\n",
       "    }\n",
       "\n",
       "    .dataframe thead th {\n",
       "        text-align: right;\n",
       "    }\n",
       "</style>\n",
       "<table border=\"1\" class=\"dataframe\">\n",
       "  <thead>\n",
       "    <tr style=\"text-align: right;\">\n",
       "      <th></th>\n",
       "      <th>count</th>\n",
       "      <th>mean</th>\n",
       "      <th>std</th>\n",
       "      <th>min</th>\n",
       "      <th>25%</th>\n",
       "      <th>50%</th>\n",
       "      <th>75%</th>\n",
       "      <th>max</th>\n",
       "    </tr>\n",
       "  </thead>\n",
       "  <tbody>\n",
       "    <tr>\n",
       "      <th>NumberOfOpenCreditLinesAndLoans</th>\n",
       "      <td>150000.0</td>\n",
       "      <td>8.452760</td>\n",
       "      <td>5.145951</td>\n",
       "      <td>0.0</td>\n",
       "      <td>5.000000</td>\n",
       "      <td>8.000000</td>\n",
       "      <td>11.000000</td>\n",
       "      <td>58.0</td>\n",
       "    </tr>\n",
       "    <tr>\n",
       "      <th>NumberRealEstateLoansOrLines</th>\n",
       "      <td>150000.0</td>\n",
       "      <td>1.018240</td>\n",
       "      <td>1.129771</td>\n",
       "      <td>0.0</td>\n",
       "      <td>0.000000</td>\n",
       "      <td>1.000000</td>\n",
       "      <td>2.000000</td>\n",
       "      <td>54.0</td>\n",
       "    </tr>\n",
       "    <tr>\n",
       "      <th>NumberOfTime30-59DaysPastDueNotWorse</th>\n",
       "      <td>150000.0</td>\n",
       "      <td>0.245353</td>\n",
       "      <td>0.697231</td>\n",
       "      <td>0.0</td>\n",
       "      <td>0.000000</td>\n",
       "      <td>0.000000</td>\n",
       "      <td>0.000000</td>\n",
       "      <td>13.0</td>\n",
       "    </tr>\n",
       "    <tr>\n",
       "      <th>NumberOfTime60-89DaysPastDueNotWorse</th>\n",
       "      <td>150000.0</td>\n",
       "      <td>0.064707</td>\n",
       "      <td>0.329788</td>\n",
       "      <td>0.0</td>\n",
       "      <td>0.000000</td>\n",
       "      <td>0.000000</td>\n",
       "      <td>0.000000</td>\n",
       "      <td>11.0</td>\n",
       "    </tr>\n",
       "    <tr>\n",
       "      <th>NumberOfTimes90DaysLate</th>\n",
       "      <td>150000.0</td>\n",
       "      <td>0.090293</td>\n",
       "      <td>0.485107</td>\n",
       "      <td>0.0</td>\n",
       "      <td>0.000000</td>\n",
       "      <td>0.000000</td>\n",
       "      <td>0.000000</td>\n",
       "      <td>17.0</td>\n",
       "    </tr>\n",
       "    <tr>\n",
       "      <th>RevolvingUtilizationOfUnsecuredLines</th>\n",
       "      <td>150000.0</td>\n",
       "      <td>6.048438</td>\n",
       "      <td>249.755371</td>\n",
       "      <td>0.0</td>\n",
       "      <td>0.029867</td>\n",
       "      <td>0.154181</td>\n",
       "      <td>0.559046</td>\n",
       "      <td>50708.0</td>\n",
       "    </tr>\n",
       "    <tr>\n",
       "      <th>DebtRatio</th>\n",
       "      <td>150000.0</td>\n",
       "      <td>353.005076</td>\n",
       "      <td>2037.818523</td>\n",
       "      <td>0.0</td>\n",
       "      <td>0.175074</td>\n",
       "      <td>0.366508</td>\n",
       "      <td>0.868254</td>\n",
       "      <td>329664.0</td>\n",
       "    </tr>\n",
       "    <tr>\n",
       "      <th>MonthlyIncome</th>\n",
       "      <td>120269.0</td>\n",
       "      <td>6670.221237</td>\n",
       "      <td>14384.674215</td>\n",
       "      <td>0.0</td>\n",
       "      <td>3400.000000</td>\n",
       "      <td>5400.000000</td>\n",
       "      <td>8249.000000</td>\n",
       "      <td>3008750.0</td>\n",
       "    </tr>\n",
       "  </tbody>\n",
       "</table>\n",
       "</div>"
      ],
      "text/plain": [
       "                                         count         mean           std  \\\n",
       "NumberOfOpenCreditLinesAndLoans       150000.0     8.452760      5.145951   \n",
       "NumberRealEstateLoansOrLines          150000.0     1.018240      1.129771   \n",
       "NumberOfTime30-59DaysPastDueNotWorse  150000.0     0.245353      0.697231   \n",
       "NumberOfTime60-89DaysPastDueNotWorse  150000.0     0.064707      0.329788   \n",
       "NumberOfTimes90DaysLate               150000.0     0.090293      0.485107   \n",
       "RevolvingUtilizationOfUnsecuredLines  150000.0     6.048438    249.755371   \n",
       "DebtRatio                             150000.0   353.005076   2037.818523   \n",
       "MonthlyIncome                         120269.0  6670.221237  14384.674215   \n",
       "\n",
       "                                      min          25%          50%  \\\n",
       "NumberOfOpenCreditLinesAndLoans       0.0     5.000000     8.000000   \n",
       "NumberRealEstateLoansOrLines          0.0     0.000000     1.000000   \n",
       "NumberOfTime30-59DaysPastDueNotWorse  0.0     0.000000     0.000000   \n",
       "NumberOfTime60-89DaysPastDueNotWorse  0.0     0.000000     0.000000   \n",
       "NumberOfTimes90DaysLate               0.0     0.000000     0.000000   \n",
       "RevolvingUtilizationOfUnsecuredLines  0.0     0.029867     0.154181   \n",
       "DebtRatio                             0.0     0.175074     0.366508   \n",
       "MonthlyIncome                         0.0  3400.000000  5400.000000   \n",
       "\n",
       "                                              75%        max  \n",
       "NumberOfOpenCreditLinesAndLoans         11.000000       58.0  \n",
       "NumberRealEstateLoansOrLines             2.000000       54.0  \n",
       "NumberOfTime30-59DaysPastDueNotWorse     0.000000       13.0  \n",
       "NumberOfTime60-89DaysPastDueNotWorse     0.000000       11.0  \n",
       "NumberOfTimes90DaysLate                  0.000000       17.0  \n",
       "RevolvingUtilizationOfUnsecuredLines     0.559046    50708.0  \n",
       "DebtRatio                                0.868254   329664.0  \n",
       "MonthlyIncome                         8249.000000  3008750.0  "
      ]
     },
     "execution_count": 20,
     "metadata": {},
     "output_type": "execute_result"
    }
   ],
   "source": [
    "col =  ['NumberOfOpenCreditLinesAndLoans',\n",
    "        'NumberRealEstateLoansOrLines',\n",
    "        'NumberOfTime30-59DaysPastDueNotWorse',\n",
    "        'NumberOfTime60-89DaysPastDueNotWorse',\n",
    "        'NumberOfTimes90DaysLate',\n",
    "        'RevolvingUtilizationOfUnsecuredLines',\n",
    "        'DebtRatio',\n",
    "        'MonthlyIncome']\n",
    "\n",
    "credit_data[col].describe().T"
   ]
  },
  {
   "attachments": {},
   "cell_type": "markdown",
   "metadata": {},
   "source": [
    "# 4. Discrete Features Analysis"
   ]
  },
  {
   "cell_type": "code",
   "execution_count": 21,
   "metadata": {},
   "outputs": [
    {
     "data": {
      "text/html": [
       "<div>\n",
       "<style scoped>\n",
       "    .dataframe tbody tr th:only-of-type {\n",
       "        vertical-align: middle;\n",
       "    }\n",
       "\n",
       "    .dataframe tbody tr th {\n",
       "        vertical-align: top;\n",
       "    }\n",
       "\n",
       "    .dataframe thead th {\n",
       "        text-align: right;\n",
       "    }\n",
       "</style>\n",
       "<table border=\"1\" class=\"dataframe\">\n",
       "  <thead>\n",
       "    <tr style=\"text-align: right;\">\n",
       "      <th></th>\n",
       "      <th>SeriousDlqin2yrs</th>\n",
       "      <th>NumberOfOpenCreditLinesAndLoans</th>\n",
       "      <th>NumberOfDependents</th>\n",
       "      <th>NumberRealEstateLoansOrLines</th>\n",
       "      <th>NumberOfTime30-59DaysPastDueNotWorse</th>\n",
       "      <th>NumberOfTime60-89DaysPastDueNotWorse</th>\n",
       "      <th>NumberOfTimes90DaysLate</th>\n",
       "    </tr>\n",
       "  </thead>\n",
       "  <tbody>\n",
       "    <tr>\n",
       "      <th>count</th>\n",
       "      <td>150000.000000</td>\n",
       "      <td>150000.000000</td>\n",
       "      <td>150000.000000</td>\n",
       "      <td>150000.000000</td>\n",
       "      <td>150000.000000</td>\n",
       "      <td>150000.000000</td>\n",
       "      <td>150000.000000</td>\n",
       "    </tr>\n",
       "    <tr>\n",
       "      <th>mean</th>\n",
       "      <td>0.066840</td>\n",
       "      <td>8.452760</td>\n",
       "      <td>0.737413</td>\n",
       "      <td>1.018240</td>\n",
       "      <td>0.245353</td>\n",
       "      <td>0.064707</td>\n",
       "      <td>0.090293</td>\n",
       "    </tr>\n",
       "    <tr>\n",
       "      <th>std</th>\n",
       "      <td>0.249746</td>\n",
       "      <td>5.145951</td>\n",
       "      <td>1.107021</td>\n",
       "      <td>1.129771</td>\n",
       "      <td>0.697231</td>\n",
       "      <td>0.329788</td>\n",
       "      <td>0.485107</td>\n",
       "    </tr>\n",
       "    <tr>\n",
       "      <th>min</th>\n",
       "      <td>0.000000</td>\n",
       "      <td>0.000000</td>\n",
       "      <td>0.000000</td>\n",
       "      <td>0.000000</td>\n",
       "      <td>0.000000</td>\n",
       "      <td>0.000000</td>\n",
       "      <td>0.000000</td>\n",
       "    </tr>\n",
       "    <tr>\n",
       "      <th>25%</th>\n",
       "      <td>0.000000</td>\n",
       "      <td>5.000000</td>\n",
       "      <td>0.000000</td>\n",
       "      <td>0.000000</td>\n",
       "      <td>0.000000</td>\n",
       "      <td>0.000000</td>\n",
       "      <td>0.000000</td>\n",
       "    </tr>\n",
       "    <tr>\n",
       "      <th>50%</th>\n",
       "      <td>0.000000</td>\n",
       "      <td>8.000000</td>\n",
       "      <td>0.000000</td>\n",
       "      <td>1.000000</td>\n",
       "      <td>0.000000</td>\n",
       "      <td>0.000000</td>\n",
       "      <td>0.000000</td>\n",
       "    </tr>\n",
       "    <tr>\n",
       "      <th>75%</th>\n",
       "      <td>0.000000</td>\n",
       "      <td>11.000000</td>\n",
       "      <td>1.000000</td>\n",
       "      <td>2.000000</td>\n",
       "      <td>0.000000</td>\n",
       "      <td>0.000000</td>\n",
       "      <td>0.000000</td>\n",
       "    </tr>\n",
       "    <tr>\n",
       "      <th>max</th>\n",
       "      <td>1.000000</td>\n",
       "      <td>58.000000</td>\n",
       "      <td>20.000000</td>\n",
       "      <td>54.000000</td>\n",
       "      <td>13.000000</td>\n",
       "      <td>11.000000</td>\n",
       "      <td>17.000000</td>\n",
       "    </tr>\n",
       "  </tbody>\n",
       "</table>\n",
       "</div>"
      ],
      "text/plain": [
       "       SeriousDlqin2yrs  NumberOfOpenCreditLinesAndLoans  NumberOfDependents  \\\n",
       "count     150000.000000                    150000.000000       150000.000000   \n",
       "mean           0.066840                         8.452760            0.737413   \n",
       "std            0.249746                         5.145951            1.107021   \n",
       "min            0.000000                         0.000000            0.000000   \n",
       "25%            0.000000                         5.000000            0.000000   \n",
       "50%            0.000000                         8.000000            0.000000   \n",
       "75%            0.000000                        11.000000            1.000000   \n",
       "max            1.000000                        58.000000           20.000000   \n",
       "\n",
       "       NumberRealEstateLoansOrLines  NumberOfTime30-59DaysPastDueNotWorse  \\\n",
       "count                 150000.000000                         150000.000000   \n",
       "mean                       1.018240                              0.245353   \n",
       "std                        1.129771                              0.697231   \n",
       "min                        0.000000                              0.000000   \n",
       "25%                        0.000000                              0.000000   \n",
       "50%                        1.000000                              0.000000   \n",
       "75%                        2.000000                              0.000000   \n",
       "max                       54.000000                             13.000000   \n",
       "\n",
       "       NumberOfTime60-89DaysPastDueNotWorse  NumberOfTimes90DaysLate  \n",
       "count                         150000.000000            150000.000000  \n",
       "mean                               0.064707                 0.090293  \n",
       "std                                0.329788                 0.485107  \n",
       "min                                0.000000                 0.000000  \n",
       "25%                                0.000000                 0.000000  \n",
       "50%                                0.000000                 0.000000  \n",
       "75%                                0.000000                 0.000000  \n",
       "max                               11.000000                17.000000  "
      ]
     },
     "execution_count": 21,
     "metadata": {},
     "output_type": "execute_result"
    }
   ],
   "source": [
    "discrete = ['SeriousDlqin2yrs',\n",
    "            'NumberOfOpenCreditLinesAndLoans',\n",
    "            'NumberOfDependents',\n",
    "            'NumberRealEstateLoansOrLines',\n",
    "            'NumberOfTime30-59DaysPastDueNotWorse',\n",
    "            'NumberOfTime60-89DaysPastDueNotWorse',\n",
    "            'NumberOfTimes90DaysLate']\n",
    "\n",
    "credit_data[discrete].describe()"
   ]
  },
  {
   "attachments": {},
   "cell_type": "markdown",
   "metadata": {},
   "source": [
    "## 4(a) SeriousDlqin2yrs & TypeCustomer"
   ]
  },
  {
   "attachments": {},
   "cell_type": "markdown",
   "metadata": {},
   "source": [
    "The SeriousDlqin2yrs column described whether a customer is flagged (labeled 1) for experiencing 90 days past due delinquency or worse in the last 2 years."
   ]
  },
  {
   "attachments": {},
   "cell_type": "markdown",
   "metadata": {},
   "source": [
    "The TypeCustomer column is derived from MonthlyIncome; if MonthlyIncome is NaN-valued, then the TypeCustomer is 'Business', otherwise 'Personal'."
   ]
  },
  {
   "cell_type": "code",
   "execution_count": 22,
   "metadata": {},
   "outputs": [
    {
     "name": "stdout",
     "output_type": "stream",
     "text": [
      "Probability of Being Flagged = 0.06684\n"
     ]
    }
   ],
   "source": [
    "flagged = (credit_data[\"SeriousDlqin2yrs\"] == 1)\n",
    "prob_flagged = flagged.mean()\n",
    "\n",
    "print(f\"Probability of Being Flagged = {prob_flagged}\")"
   ]
  },
  {
   "cell_type": "code",
   "execution_count": 23,
   "metadata": {},
   "outputs": [
    {
     "name": "stdout",
     "output_type": "stream",
     "text": [
      "Probability of 'Personal' Customer Type = 0.8017933333333334\n",
      "Probability of 'Business' Customer Type = 0.19820666666666667\n"
     ]
    }
   ],
   "source": [
    "pers = (credit_data[\"TypeCustomer\"] == 'Personal')\n",
    "prob_pers = pers.mean()\n",
    "bus = (credit_data[\"TypeCustomer\"] == 'Business')\n",
    "prob_bus = bus.mean()\n",
    "\n",
    "print(f\"Probability of \\'Personal\\' Customer Type = {prob_pers}\")\n",
    "print(f\"Probability of \\'Business\\' Customer Type = {prob_bus}\")"
   ]
  },
  {
   "attachments": {},
   "cell_type": "markdown",
   "metadata": {},
   "source": [
    "## 4(b) NumberOfOpenCreditLinesAndLoans"
   ]
  },
  {
   "cell_type": "code",
   "execution_count": 24,
   "metadata": {},
   "outputs": [
    {
     "data": {
      "text/plain": [
       "<AxesSubplot:xlabel='NumberOfOpenCreditLinesAndLoans'>"
      ]
     },
     "execution_count": 24,
     "metadata": {},
     "output_type": "execute_result"
    },
    {
     "data": {
      "image/png": "[encoded data removed]",
      "text/plain": [
       "<Figure size 432x288 with 1 Axes>"
      ]
     },
     "metadata": {
      "needs_background": "light"
     },
     "output_type": "display_data"
    }
   ],
   "source": [
    "sns.boxplot(data=credit_data, x=\"NumberOfOpenCreditLinesAndLoans\")"
   ]
  },
  {
   "cell_type": "code",
   "execution_count": 25,
   "metadata": {},
   "outputs": [
    {
     "data": {
      "image/png": "[encoded data removed]",
      "text/plain": [
       "<Figure size 1008x360 with 1 Axes>"
      ]
     },
     "metadata": {
      "needs_background": "light"
     },
     "output_type": "display_data"
    },
    {
     "data": {
      "image/png": "[encoded data removed]",
      "text/plain": [
       "<Figure size 1008x504 with 4 Axes>"
      ]
     },
     "metadata": {
      "needs_background": "light"
     },
     "output_type": "display_data"
    }
   ],
   "source": [
    "plt.figure(figsize=(14,5))\n",
    "plt.bar(*np.unique(credit_data[\"NumberOfOpenCreditLinesAndLoans\"], return_counts=True))\n",
    "plt.title(\"NumberOfOpenCreditLinesAndLoans\")\n",
    "plt.show()\n",
    "\n",
    "fig, ax = plt.subplots(2,2, figsize=(14,7))\n",
    "\n",
    "ax[0,0].bar(*np.unique(credit_data[~flagged & pers][\"NumberOfOpenCreditLinesAndLoans\"], return_counts=True),\n",
    "           color='C1')\n",
    "ax[0,0].set_title(\"NumberOfOpenCreditLinesAndLoans (Non-Flagged & Personal)\")\n",
    "\n",
    "ax[1,0].bar(*np.unique(credit_data[flagged & pers][\"NumberOfOpenCreditLinesAndLoans\"], return_counts=True),\n",
    "           color='C2')\n",
    "ax[1,0].set_title(\"NumberOfOpenCreditLinesAndLoans (Flagged & Personal)\")\n",
    "\n",
    "ax[0,1].bar(*np.unique(credit_data[~flagged & ~pers][\"NumberOfOpenCreditLinesAndLoans\"], return_counts=True),\n",
    "           color='C3')\n",
    "ax[0,1].set_title(\"NumberOfOpenCreditLinesAndLoans (Non-Flagged & Business)\")\n",
    "\n",
    "ax[1,1].bar(*np.unique(credit_data[flagged & ~pers][\"NumberOfOpenCreditLinesAndLoans\"], return_counts=True),\n",
    "           color='C4')\n",
    "ax[1,1].set_title(\"NumberOfOpenCreditLinesAndLoans (Flagged & Business)\")\n",
    "\n",
    "for axes in ax.reshape(-1):\n",
    "    axes.set_xlim([-1,65])\n",
    "    axes.set_xticks(np.arange(0,65,5))\n",
    "\n",
    "plt.show()\n"
   ]
  },
  {
   "attachments": {},
   "cell_type": "markdown",
   "metadata": {},
   "source": [
    "It seems that the distribution of NumberOfOpenCreditLinesAndLoans is shifted to the left if the customer is flagged (experienced 90 days past due delinquency or worse)"
   ]
  },
  {
   "cell_type": "code",
   "execution_count": 26,
   "metadata": {},
   "outputs": [
    {
     "data": {
      "text/plain": [
       "8.0"
      ]
     },
     "execution_count": 26,
     "metadata": {},
     "output_type": "execute_result"
    }
   ],
   "source": [
    "credit_data[\"NumberOfOpenCreditLinesAndLoans\"].median()"
   ]
  },
  {
   "cell_type": "code",
   "execution_count": 27,
   "metadata": {},
   "outputs": [
    {
     "name": "stdout",
     "output_type": "stream",
     "text": [
      "Probability of Zero Number of Credit Lines = 0.012586666666666666\n",
      "Probability of Flagged = 0.06684\n",
      "\n",
      "Probability of Zero Num of Cred Lines, conditioned on Flagged = 0.04827448633552763\n",
      "Probability of Flagged, conditioned on Zero Num of Cred Lines = 0.25635593220338987\n",
      "\n",
      "Probability of Zero Num of Cred Lines, conditioned on Flagged & Personal = 0.037573291851142755\n",
      "Probability of Flagged, conditioned on Zero Num of Cred Lines & Personal = 0.27162629757785467\n",
      "\n",
      "Probability of Zero Num of Cred Lines, conditioned on Flagged & Business = 0.1018573996405033\n",
      "Probability of Flagged, conditioned on Zero Num of Cred Lines & Business = 0.23224043715846998\n",
      "\n"
     ]
    }
   ],
   "source": [
    "zero_num_cred_lines = (credit_data[\"NumberOfOpenCreditLinesAndLoans\"] == 0)\n",
    "prob_zero_num_cred_lines = zero_num_cred_lines.mean()\n",
    "prob_flagged = flagged.mean()\n",
    "\n",
    "print(f\"Probability of Zero Number of Credit Lines = {prob_zero_num_cred_lines}\")\n",
    "print(f\"Probability of Flagged = {prob_flagged}\\n\")\n",
    "\n",
    "p1 = (zero_num_cred_lines & flagged).mean()/(flagged).mean()\n",
    "print(f\"Probability of Zero Num of Cred Lines, conditioned on Flagged = {p1}\")\n",
    "\n",
    "p2 = (zero_num_cred_lines & flagged).mean()/(zero_num_cred_lines).mean()\n",
    "print(f\"Probability of Flagged, conditioned on Zero Num of Cred Lines = {p2}\\n\")\n",
    "\n",
    "p3 = (zero_num_cred_lines & flagged & personal).mean()/(flagged & personal).mean()\n",
    "print(f\"Probability of Zero Num of Cred Lines, conditioned on Flagged & Personal = {p3}\")\n",
    "\n",
    "p4 = (zero_num_cred_lines & flagged & personal).mean()/(zero_num_cred_lines & personal).mean()\n",
    "print(f\"Probability of Flagged, conditioned on Zero Num of Cred Lines & Personal = {p4}\\n\")\n",
    "\n",
    "p5 = (zero_num_cred_lines & flagged & ~personal).mean()/(flagged & ~personal).mean()\n",
    "print(f\"Probability of Zero Num of Cred Lines, conditioned on Flagged & Business = {p5}\")\n",
    "\n",
    "p6 = (zero_num_cred_lines & flagged & ~personal).mean()/(zero_num_cred_lines & ~personal).mean()\n",
    "print(f\"Probability of Flagged, conditioned on Zero Num of Cred Lines & Business = {p6}\\n\")\n"
   ]
  },
  {
   "attachments": {},
   "cell_type": "markdown",
   "metadata": {},
   "source": [
    "From the results above, the odds that a customer is flagged will increase four times if they have zero number of open credit lines and loans."
   ]
  },
  {
   "attachments": {},
   "cell_type": "markdown",
   "metadata": {},
   "source": [
    "## 4(c) NumberOfDependents"
   ]
  },
  {
   "cell_type": "code",
   "execution_count": 28,
   "metadata": {},
   "outputs": [
    {
     "data": {
      "text/plain": [
       "<AxesSubplot:xlabel='NumberOfDependents'>"
      ]
     },
     "execution_count": 28,
     "metadata": {},
     "output_type": "execute_result"
    },
    {
     "data": {
      "image/png": "[encoded data removed]",
      "text/plain": [
       "<Figure size 432x288 with 1 Axes>"
      ]
     },
     "metadata": {
      "needs_background": "light"
     },
     "output_type": "display_data"
    }
   ],
   "source": [
    "sns.boxplot(data=credit_data, x=\"NumberOfDependents\")"
   ]
  },
  {
   "cell_type": "code",
   "execution_count": 29,
   "metadata": {},
   "outputs": [
    {
     "data": {
      "text/html": [
       "<div>\n",
       "<style scoped>\n",
       "    .dataframe tbody tr th:only-of-type {\n",
       "        vertical-align: middle;\n",
       "    }\n",
       "\n",
       "    .dataframe tbody tr th {\n",
       "        vertical-align: top;\n",
       "    }\n",
       "\n",
       "    .dataframe thead th {\n",
       "        text-align: right;\n",
       "    }\n",
       "</style>\n",
       "<table border=\"1\" class=\"dataframe\">\n",
       "  <thead>\n",
       "    <tr style=\"text-align: right;\">\n",
       "      <th></th>\n",
       "      <th>Unnamed: 0</th>\n",
       "      <th>SeriousDlqin2yrs</th>\n",
       "      <th>RevolvingUtilizationOfUnsecuredLines</th>\n",
       "      <th>age</th>\n",
       "      <th>NumberOfTime30-59DaysPastDueNotWorse</th>\n",
       "      <th>DebtRatio</th>\n",
       "      <th>MonthlyIncome</th>\n",
       "      <th>NumberOfOpenCreditLinesAndLoans</th>\n",
       "      <th>NumberOfTimes90DaysLate</th>\n",
       "      <th>NumberRealEstateLoansOrLines</th>\n",
       "      <th>NumberOfTime60-89DaysPastDueNotWorse</th>\n",
       "      <th>NumberOfDependents</th>\n",
       "      <th>TypeCustomer</th>\n",
       "    </tr>\n",
       "  </thead>\n",
       "  <tbody>\n",
       "    <tr>\n",
       "      <th>6299</th>\n",
       "      <td>6300</td>\n",
       "      <td>0</td>\n",
       "      <td>0.226616</td>\n",
       "      <td>40</td>\n",
       "      <td>1</td>\n",
       "      <td>0.576539</td>\n",
       "      <td>6316.0</td>\n",
       "      <td>11</td>\n",
       "      <td>2</td>\n",
       "      <td>1</td>\n",
       "      <td>0</td>\n",
       "      <td>20.0</td>\n",
       "      <td>Personal</td>\n",
       "    </tr>\n",
       "  </tbody>\n",
       "</table>\n",
       "</div>"
      ],
      "text/plain": [
       "      Unnamed: 0  SeriousDlqin2yrs  RevolvingUtilizationOfUnsecuredLines  age  \\\n",
       "6299        6300                 0                              0.226616   40   \n",
       "\n",
       "      NumberOfTime30-59DaysPastDueNotWorse  DebtRatio  MonthlyIncome  \\\n",
       "6299                                     1   0.576539         6316.0   \n",
       "\n",
       "      NumberOfOpenCreditLinesAndLoans  NumberOfTimes90DaysLate  \\\n",
       "6299                               11                        2   \n",
       "\n",
       "      NumberRealEstateLoansOrLines  NumberOfTime60-89DaysPastDueNotWorse  \\\n",
       "6299                             1                                     0   \n",
       "\n",
       "      NumberOfDependents TypeCustomer  \n",
       "6299                20.0     Personal  "
      ]
     },
     "execution_count": 29,
     "metadata": {},
     "output_type": "execute_result"
    }
   ],
   "source": [
    "credit_data[credit_data[\"NumberOfDependents\"] > 15]"
   ]
  },
  {
   "cell_type": "code",
   "execution_count": 30,
   "metadata": {},
   "outputs": [
    {
     "data": {
      "image/png": "[encoded data removed]",
      "text/plain": [
       "<Figure size 1008x360 with 1 Axes>"
      ]
     },
     "metadata": {
      "needs_background": "light"
     },
     "output_type": "display_data"
    },
    {
     "data": {
      "image/png": "[encoded data removed]",
      "text/plain": [
       "<Figure size 1008x504 with 4 Axes>"
      ]
     },
     "metadata": {
      "needs_background": "light"
     },
     "output_type": "display_data"
    }
   ],
   "source": [
    "plt.figure(figsize=(14,5))\n",
    "plt.bar(*np.unique(credit_data[\"NumberOfDependents\"], return_counts=True))\n",
    "plt.title(\"NumberOfDependents\")\n",
    "plt.show()\n",
    "\n",
    "fig, ax = plt.subplots(2,2, figsize=(14,7))\n",
    "\n",
    "ax[0,0].bar(*np.unique(credit_data[~flagged & pers][\"NumberOfDependents\"], return_counts=True),\n",
    "           color='C1')\n",
    "ax[0,0].set_title(\"NumberOfDependents (Non-Flagged & Personal)\")\n",
    "\n",
    "ax[1,0].bar(*np.unique(credit_data[flagged & pers][\"NumberOfDependents\"], return_counts=True),\n",
    "           color='C2')\n",
    "ax[1,0].set_title(\"NumberOfDependents (Flagged & Personal)\")\n",
    "\n",
    "ax[0,1].bar(*np.unique(credit_data[~flagged & ~pers][\"NumberOfDependents\"], return_counts=True),\n",
    "           color='C3')\n",
    "ax[0,1].set_title(\"NumberOfDependents (Non-Flagged & Business)\")\n",
    "\n",
    "ax[1,1].bar(*np.unique(credit_data[flagged & ~pers][\"NumberOfDependents\"], return_counts=True),\n",
    "           color='C4')\n",
    "ax[1,1].set_title(\"NumberOfDependents (Flagged & Business)\")\n",
    "\n",
    "for axes in ax.reshape(-1):\n",
    "    axes.set_xlim([-1,25])\n",
    "    axes.set_xticks(np.arange(0,25,5))\n",
    "\n",
    "plt.show()"
   ]
  },
  {
   "cell_type": "code",
   "execution_count": 31,
   "metadata": {},
   "outputs": [
    {
     "name": "stdout",
     "output_type": "stream",
     "text": [
      "Probability of Zero Number of Dependents = 0.6055066666666666\n",
      "Probability of Flagged = 0.06684\n",
      "\n",
      "Probability of Flagged, conditioned on Zero Num of Dependents = 0.05806707330500077\n",
      "\n",
      "Probability of Flagged, conditioned on Zero Num of Dependents & Personal = 0.05949034465900758\n",
      "\n",
      "Probability of Flagged, conditioned on Zero Num of Dependents & Business = 0.05439495467087111\n",
      "\n"
     ]
    }
   ],
   "source": [
    "zero_num_depend = (credit_data[\"NumberOfDependents\"] == 0)\n",
    "\n",
    "prob_zero_num_depend = zero_num_depend.mean()\n",
    "prob_flagged = flagged.mean()\n",
    "print(f\"Probability of Zero Number of Dependents = {prob_zero_num_depend}\")\n",
    "print(f\"Probability of Flagged = {prob_flagged}\\n\")\n",
    "\n",
    "p2 = (zero_num_depend & flagged).mean()/(zero_num_depend).mean()\n",
    "print(f\"Probability of Flagged, conditioned on Zero Num of Dependents = {p2}\\n\")\n",
    "\n",
    "p4 = (zero_num_depend & flagged & personal).mean()/(zero_num_depend & personal).mean()\n",
    "print(f\"Probability of Flagged, conditioned on Zero Num of Dependents & Personal = {p4}\\n\")\n",
    "\n",
    "p6 = (zero_num_depend & flagged & ~personal).mean()/(zero_num_depend & ~personal).mean()\n",
    "print(f\"Probability of Flagged, conditioned on Zero Num of Dependents & Business = {p6}\\n\")\n"
   ]
  },
  {
   "attachments": {},
   "cell_type": "markdown",
   "metadata": {},
   "source": [
    "From the result above, having zero number of dependents doesn't really change the odds of being flagged."
   ]
  },
  {
   "attachments": {},
   "cell_type": "markdown",
   "metadata": {},
   "source": [
    "## 4(d) NumberRealEstateLoansOrLines"
   ]
  },
  {
   "cell_type": "code",
   "execution_count": 32,
   "metadata": {},
   "outputs": [
    {
     "data": {
      "text/plain": [
       "<AxesSubplot:xlabel='NumberRealEstateLoansOrLines'>"
      ]
     },
     "execution_count": 32,
     "metadata": {},
     "output_type": "execute_result"
    },
    {
     "data": {
      "image/png": "[encoded data removed]",
      "text/plain": [
       "<Figure size 432x288 with 1 Axes>"
      ]
     },
     "metadata": {
      "needs_background": "light"
     },
     "output_type": "display_data"
    }
   ],
   "source": [
    "greater_5 = credit_data[\"NumberRealEstateLoansOrLines\"] > 5\n",
    "\n",
    "sns.boxplot(data=credit_data, x=\"NumberRealEstateLoansOrLines\")"
   ]
  },
  {
   "cell_type": "code",
   "execution_count": 33,
   "metadata": {},
   "outputs": [
    {
     "data": {
      "text/plain": [
       "0.005286666666666667"
      ]
     },
     "execution_count": 33,
     "metadata": {},
     "output_type": "execute_result"
    }
   ],
   "source": [
    "greater_5.mean()"
   ]
  },
  {
   "cell_type": "code",
   "execution_count": 34,
   "metadata": {},
   "outputs": [
    {
     "data": {
      "text/plain": [
       "0.17906683480453972"
      ]
     },
     "execution_count": 34,
     "metadata": {},
     "output_type": "execute_result"
    }
   ],
   "source": [
    "greater_50 = credit_data[\"NumberRealEstateLoansOrLines\"] > 50\n",
    "\n",
    "credit_data[greater_5][\"SeriousDlqin2yrs\"].mean()"
   ]
  },
  {
   "cell_type": "code",
   "execution_count": 35,
   "metadata": {},
   "outputs": [
    {
     "name": "stdout",
     "output_type": "stream",
     "text": [
      "Excluding the outlier (>5),\n",
      "Mean of NumberRealEstateLoansOrLines = 0.981234124404351\n",
      "Variance of NumberRealEstateLoansOrLines = 0.9611641324627219\n"
     ]
    }
   ],
   "source": [
    "estate_mean = credit_data[~greater_5][\"NumberRealEstateLoansOrLines\"].mean()\n",
    "estate_var = credit_data[~greater_5][\"NumberRealEstateLoansOrLines\"].var()\n",
    "\n",
    "print(f'''Excluding the outlier (>5),\n",
    "Mean of NumberRealEstateLoansOrLines = {estate_mean}\n",
    "Variance of NumberRealEstateLoansOrLines = {estate_var}''')"
   ]
  },
  {
   "cell_type": "code",
   "execution_count": 36,
   "metadata": {},
   "outputs": [],
   "source": [
    "from scipy.special import factorial\n",
    "from numpy import exp\n",
    "\n",
    "x_range = np.array([n for n in range(6)])\n",
    "lambd = estate_mean\n",
    "poi_pmf = np.array([(lambd**n)*exp(-lambd)/factorial(n) for n in range(6)])\n",
    "poi_count = 150_000*poi_pmf"
   ]
  },
  {
   "cell_type": "code",
   "execution_count": 37,
   "metadata": {},
   "outputs": [
    {
     "data": {
      "text/plain": [
       "array([56227.23059382, 55172.07737941, 27068.36251947,  8853.46699862,\n",
       "        2171.83098458,   426.2149349 ])"
      ]
     },
     "execution_count": 37,
     "metadata": {},
     "output_type": "execute_result"
    }
   ],
   "source": [
    "poi_count"
   ]
  },
  {
   "cell_type": "code",
   "execution_count": 38,
   "metadata": {},
   "outputs": [
    {
     "data": {
      "image/png": "[encoded data removed]",
      "text/plain": [
       "<Figure size 1008x360 with 1 Axes>"
      ]
     },
     "metadata": {
      "needs_background": "light"
     },
     "output_type": "display_data"
    },
    {
     "data": {
      "image/png": "[encoded data removed]",
      "text/plain": [
       "<Figure size 1008x504 with 4 Axes>"
      ]
     },
     "metadata": {
      "needs_background": "light"
     },
     "output_type": "display_data"
    }
   ],
   "source": [
    "plt.figure(figsize=(14,5))\n",
    "bar_width = 0.35\n",
    "plt.bar(*(x_range+bar_width, poi_count), color='C6', width=bar_width, \n",
    "        label=f'theoretical (lambda = {lambd:1.2f})')\n",
    "plt.bar(*np.unique(credit_data[~greater_5][\"NumberRealEstateLoansOrLines\"], return_counts=True), \n",
    "        width=bar_width, label='empirical')\n",
    "plt.title(\"NumberRealEstateLoansOrLines\")\n",
    "plt.legend()\n",
    "plt.show()\n",
    "\n",
    "fig, ax = plt.subplots(2,2, figsize=(14,7))\n",
    "\n",
    "ax[0,0].bar(*np.unique(credit_data[~flagged & pers & ~greater_5][\"NumberRealEstateLoansOrLines\"], return_counts=True),\n",
    "           color='C1')\n",
    "ax[0,0].set_title(\"NumberRealEstateLoansOrLines (Non-Flagged & Personal)\")\n",
    "\n",
    "ax[1,0].bar(*np.unique(credit_data[flagged & pers & ~greater_5][\"NumberRealEstateLoansOrLines\"], return_counts=True),\n",
    "           color='C2')\n",
    "ax[1,0].set_title(\"NumberRealEstateLoansOrLines (Flagged & Personal)\")\n",
    "\n",
    "ax[0,1].bar(*np.unique(credit_data[~flagged & ~pers & ~greater_5][\"NumberRealEstateLoansOrLines\"], return_counts=True),\n",
    "           color='C3')\n",
    "ax[0,1].set_title(\"NumberRealEstateLoansOrLines (Non-Flagged & Business)\")\n",
    "\n",
    "ax[1,1].bar(*np.unique(credit_data[flagged & ~pers & ~greater_5][\"NumberRealEstateLoansOrLines\"], return_counts=True),\n",
    "           color='C4')\n",
    "ax[1,1].set_title(\"NumberRealEstateLoansOrLines (Flagged & Business)\")\n",
    "\n",
    "for axes in ax.reshape(-1):\n",
    "    axes.set_xlim([-1,6])\n",
    "    axes.set_xticks(np.arange(0,6,1))\n",
    "\n",
    "plt.show()"
   ]
  },
  {
   "cell_type": "code",
   "execution_count": 39,
   "metadata": {},
   "outputs": [
    {
     "name": "stdout",
     "output_type": "stream",
     "text": [
      "Probability of >5 Number of Real Est. Loans = 0.005286666666666667\n",
      "Probability of Flagged = 0.06684\n",
      "\n",
      "Probability of Flagged, conditioned on >5 Num of Real Est. Loans = 0.1790668348045397\n",
      "\n",
      "Probability of Flagged, conditioned on >5 Num of Real Est. Loans & Personal = 0.19264705882352942\n",
      "\n",
      "Probability of Flagged, conditioned on >5 Num of Real Est. Loans & Business = 0.09734513274336283\n",
      "\n"
     ]
    }
   ],
   "source": [
    "zero_num_real_est = (credit_data[\"NumberRealEstateLoansOrLines\"] == 0)\n",
    "\n",
    "prob_greater_5 = greater_5.mean()\n",
    "prob_flagged = flagged.mean()\n",
    "print(f\"Probability of >5 Number of Real Est. Loans = {prob_greater_5}\")\n",
    "print(f\"Probability of Flagged = {prob_flagged}\\n\")\n",
    "\n",
    "p2 = (greater_5 & flagged).mean()/(greater_5).mean()\n",
    "print(f\"Probability of Flagged, conditioned on >5 Num of Real Est. Loans = {p2}\\n\")\n",
    "\n",
    "p4 = (greater_5 & flagged & personal).mean()/(greater_5 & personal).mean()\n",
    "print(f\"Probability of Flagged, conditioned on >5 Num of Real Est. Loans & Personal = {p4}\\n\")\n",
    "\n",
    "p6 = (greater_5 & flagged & ~personal).mean()/(greater_5 & ~personal).mean()\n",
    "print(f\"Probability of Flagged, conditioned on >5 Num of Real Est. Loans & Business = {p6}\\n\")\n"
   ]
  },
  {
   "attachments": {},
   "cell_type": "markdown",
   "metadata": {},
   "source": [
    "## 4(e) NumberOfTime30-59DaysPastDueNotWorse"
   ]
  },
  {
   "cell_type": "code",
   "execution_count": 40,
   "metadata": {},
   "outputs": [
    {
     "data": {
      "image/png": "[encoded data removed]",
      "text/plain": [
       "<Figure size 1008x360 with 1 Axes>"
      ]
     },
     "metadata": {
      "needs_background": "light"
     },
     "output_type": "display_data"
    },
    {
     "data": {
      "image/png": "[encoded data removed]",
      "text/plain": [
       "<Figure size 1008x504 with 4 Axes>"
      ]
     },
     "metadata": {
      "needs_background": "light"
     },
     "output_type": "display_data"
    }
   ],
   "source": [
    "plt.figure(figsize=(14,5))\n",
    "plt.bar(*np.unique(credit_data[\"NumberOfTime30-59DaysPastDueNotWorse\"], return_counts=True))\n",
    "plt.title(\"NumberOfTime30-59DaysPastDueNotWorse\")\n",
    "plt.show()\n",
    "\n",
    "fig, ax = plt.subplots(2,2, figsize=(14,7))\n",
    "\n",
    "ax[0,0].bar(*np.unique(credit_data[~flagged & pers][\"NumberOfTime30-59DaysPastDueNotWorse\"], return_counts=True),\n",
    "           color='C1')\n",
    "ax[0,0].set_title(\"NumberOfTime30-59DaysPastDueNotWorse (Non-Flagged & Personal)\")\n",
    "\n",
    "ax[1,0].bar(*np.unique(credit_data[flagged & pers][\"NumberOfTime30-59DaysPastDueNotWorse\"], return_counts=True),\n",
    "           color='C2')\n",
    "ax[1,0].set_title(\"NumberOfTime30-59DaysPastDueNotWorse (Flagged & Personal)\")\n",
    "\n",
    "ax[0,1].bar(*np.unique(credit_data[~flagged & ~pers][\"NumberOfTime30-59DaysPastDueNotWorse\"], return_counts=True),\n",
    "           color='C3')\n",
    "ax[0,1].set_title(\"NumberOfTime30-59DaysPastDueNotWorse (Non-Flagged & Business)\")\n",
    "\n",
    "ax[1,1].bar(*np.unique(credit_data[flagged & ~pers][\"NumberOfTime30-59DaysPastDueNotWorse\"], return_counts=True),\n",
    "           color='C4')\n",
    "ax[1,1].set_title(\"NumberOfTime30-59DaysPastDueNotWorse (Flagged & Business)\")\n",
    "\n",
    "for axes in ax.reshape(-1):\n",
    "    axes.set_xlim([-1,15])\n",
    "    axes.set_xticks(np.arange(0,15,5))\n",
    "\n",
    "fig.tight_layout()\n",
    "plt.show()"
   ]
  },
  {
   "attachments": {},
   "cell_type": "markdown",
   "metadata": {},
   "source": [
    "It seems that the distribution of NumberOfTime30-59DaysPastDueNotWorse is shifted to the right if the customer is flagged (experienced 90 days past due delinquency or worse)"
   ]
  },
  {
   "cell_type": "code",
   "execution_count": 41,
   "metadata": {},
   "outputs": [
    {
     "name": "stdout",
     "output_type": "stream",
     "text": [
      "Probability of Nonzero Number of 30-59 Days Past Due = 0.15808666666666665\n",
      "Probability of Flagged = 0.06684\n",
      "\n",
      "Probability of Flagged, conditioned on Nonzero Num of 30-59 Days Past Due = 0.20402310968666978\n",
      "\n",
      "Probability of Flagged, conditioned on Nonzero Num of 30-59 Days Past Due & Personal = 0.20262021735894004\n",
      "\n",
      "Probability of Flagged, conditioned on Nonzero Num of 30-59 Days Past Due & Business = 0.2119595732734419\n",
      "\n"
     ]
    }
   ],
   "source": [
    "nonzero_num_3059_past = (credit_data[\"NumberOfTime30-59DaysPastDueNotWorse\"] >= 1)\n",
    "\n",
    "prob_nonzero_num_3059_past = nonzero_num_3059_past.mean()\n",
    "prob_flagged = flagged.mean()\n",
    "print(f\"Probability of Nonzero Number of 30-59 Days Past Due = {prob_nonzero_num_3059_past}\")\n",
    "print(f\"Probability of Flagged = {prob_flagged}\\n\")\n",
    "\n",
    "p2 = (nonzero_num_3059_past & flagged).mean()/(nonzero_num_3059_past).mean()\n",
    "print(f\"Probability of Flagged, conditioned on Nonzero Num of 30-59 Days Past Due = {p2}\\n\")\n",
    "\n",
    "p4 = (nonzero_num_3059_past & flagged & personal).mean()/(nonzero_num_3059_past & personal).mean()\n",
    "print(f\"Probability of Flagged, conditioned on Nonzero Num of 30-59 Days Past Due & Personal = {p4}\\n\")\n",
    "\n",
    "p6 = (nonzero_num_3059_past & flagged & ~personal).mean()/(nonzero_num_3059_past & ~personal).mean()\n",
    "print(f\"Probability of Flagged, conditioned on Nonzero Num of 30-59 Days Past Due & Business = {p6}\\n\")\n"
   ]
  },
  {
   "attachments": {},
   "cell_type": "markdown",
   "metadata": {},
   "source": [
    "From the results above, the odds that a customer will be flagged is more than tripled if they have at least experienced 30-59 past due payments once."
   ]
  },
  {
   "attachments": {},
   "cell_type": "markdown",
   "metadata": {},
   "source": [
    "## 4(f) NumberOfTime60-89DaysPastDueNotWorse"
   ]
  },
  {
   "cell_type": "code",
   "execution_count": 42,
   "metadata": {},
   "outputs": [
    {
     "data": {
      "image/png": "[encoded data removed]",
      "text/plain": [
       "<Figure size 1008x360 with 1 Axes>"
      ]
     },
     "metadata": {
      "needs_background": "light"
     },
     "output_type": "display_data"
    },
    {
     "data": {
      "image/png": "[encoded data removed]",
      "text/plain": [
       "<Figure size 1008x504 with 4 Axes>"
      ]
     },
     "metadata": {
      "needs_background": "light"
     },
     "output_type": "display_data"
    }
   ],
   "source": [
    "plt.figure(figsize=(14,5))\n",
    "plt.bar(*np.unique(credit_data[\"NumberOfTime60-89DaysPastDueNotWorse\"], return_counts=True))\n",
    "plt.title(\"NumberOfTime60-89DaysPastDueNotWorse\")\n",
    "plt.show()\n",
    "\n",
    "fig, ax = plt.subplots(2,2, figsize=(14,7))\n",
    "\n",
    "ax[0,0].bar(*np.unique(credit_data[~flagged & pers][\"NumberOfTime60-89DaysPastDueNotWorse\"], return_counts=True),\n",
    "           color='C1')\n",
    "ax[0,0].set_title(\"NumberOfTime60-89DaysPastDueNotWorse (Non-Flagged & Personal)\")\n",
    "\n",
    "ax[1,0].bar(*np.unique(credit_data[flagged & pers][\"NumberOfTime60-89DaysPastDueNotWorse\"], return_counts=True),\n",
    "           color='C2')\n",
    "ax[1,0].set_title(\"NumberOfTime60-89DaysPastDueNotWorse (Flagged & Personal)\")\n",
    "\n",
    "ax[0,1].bar(*np.unique(credit_data[~flagged & ~pers][\"NumberOfTime60-89DaysPastDueNotWorse\"], return_counts=True),\n",
    "           color='C3')\n",
    "ax[0,1].set_title(\"NumberOfTime60-89DaysPastDueNotWorse (Non-Flagged & Business)\")\n",
    "\n",
    "ax[1,1].bar(*np.unique(credit_data[flagged & ~pers][\"NumberOfTime60-89DaysPastDueNotWorse\"], return_counts=True),\n",
    "           color='C4')\n",
    "ax[1,1].set_title(\"NumberOfTime60-89DaysPastDueNotWorse (Flagged & Business)\")\n",
    "\n",
    "for axes in ax.reshape(-1):\n",
    "    axes.set_xlim([-1,15])\n",
    "    axes.set_xticks(np.arange(0,15,5))\n",
    "\n",
    "fig.tight_layout()\n",
    "plt.show()"
   ]
  },
  {
   "cell_type": "code",
   "execution_count": 43,
   "metadata": {},
   "outputs": [
    {
     "name": "stdout",
     "output_type": "stream",
     "text": [
      "Probability of Nonzero Number of 60-89 Days Past Due = 0.0489\n",
      "Probability of Flagged = 0.06684\n",
      "\n",
      "Probability of Flagged, conditioned on Nonzero Num of 60-89 Days Past Due = 0.3576005453306067\n",
      "\n",
      "Probability of Flagged, conditioned on Nonzero Num of 60-89 Days Past Due & Personal = 0.3523747347804798\n",
      "\n",
      "Probability of Flagged, conditioned on Nonzero Num of 60-89 Days Past Due & Business = 0.3841059602649007\n",
      "\n"
     ]
    }
   ],
   "source": [
    "nonzero_num_6089_past = (credit_data[\"NumberOfTime60-89DaysPastDueNotWorse\"] >= 1)\n",
    "\n",
    "prob_nonzero_num_6089_past = nonzero_num_6089_past.mean()\n",
    "prob_flagged = flagged.mean()\n",
    "print(f\"Probability of Nonzero Number of 60-89 Days Past Due = {prob_nonzero_num_6089_past}\")\n",
    "print(f\"Probability of Flagged = {prob_flagged}\\n\")\n",
    "\n",
    "p2 = (nonzero_num_6089_past & flagged).mean()/(nonzero_num_6089_past).mean()\n",
    "print(f\"Probability of Flagged, conditioned on Nonzero Num of 60-89 Days Past Due = {p2}\\n\")\n",
    "\n",
    "p4 = (nonzero_num_6089_past & flagged & personal).mean()/(nonzero_num_6089_past & personal).mean()\n",
    "print(f\"Probability of Flagged, conditioned on Nonzero Num of 60-89 Days Past Due & Personal = {p4}\\n\")\n",
    "\n",
    "p6 = (nonzero_num_6089_past & flagged & ~personal).mean()/(nonzero_num_6089_past & ~personal).mean()\n",
    "print(f\"Probability of Flagged, conditioned on Nonzero Num of 60-89 Days Past Due & Business = {p6}\\n\")\n"
   ]
  },
  {
   "attachments": {},
   "cell_type": "markdown",
   "metadata": {},
   "source": [
    "From the results above, the odds that a customer will be flagged is increased six times if they have at least experienced 60-89 days past due payments once."
   ]
  },
  {
   "attachments": {},
   "cell_type": "markdown",
   "metadata": {},
   "source": [
    "## 4(g) NumberOfTimes90DaysLate"
   ]
  },
  {
   "cell_type": "code",
   "execution_count": 44,
   "metadata": {},
   "outputs": [
    {
     "data": {
      "image/png": "[encoded data removed]",
      "text/plain": [
       "<Figure size 1008x360 with 1 Axes>"
      ]
     },
     "metadata": {
      "needs_background": "light"
     },
     "output_type": "display_data"
    },
    {
     "data": {
      "image/png": "[encoded data removed]",
      "text/plain": [
       "<Figure size 1008x504 with 4 Axes>"
      ]
     },
     "metadata": {
      "needs_background": "light"
     },
     "output_type": "display_data"
    }
   ],
   "source": [
    "plt.figure(figsize=(14,5))\n",
    "plt.bar(*np.unique(credit_data[\"NumberOfTimes90DaysLate\"], return_counts=True))\n",
    "plt.title(\"NumberOfTimes90DaysLate\")\n",
    "plt.xticks(np.arange(0,20,5))\n",
    "plt.show()\n",
    "\n",
    "fig, ax = plt.subplots(2,2, figsize=(14,7))\n",
    "\n",
    "ax[0,0].bar(*np.unique(credit_data[~flagged & pers][\"NumberOfTimes90DaysLate\"], return_counts=True),\n",
    "           color='C1')\n",
    "ax[0,0].set_title(\"NumberOfTimes90DaysLate (Non-Flagged & Personal)\")\n",
    "\n",
    "ax[1,0].bar(*np.unique(credit_data[flagged & pers][\"NumberOfTimes90DaysLate\"], return_counts=True),\n",
    "           color='C2')\n",
    "ax[1,0].set_title(\"NumberOfTimes90DaysLate (Flagged & Personal)\")\n",
    "\n",
    "ax[0,1].bar(*np.unique(credit_data[~flagged & ~pers][\"NumberOfTimes90DaysLate\"], return_counts=True),\n",
    "           color='C3')\n",
    "ax[0,1].set_title(\"NumberOfTimes90DaysLate (Non-Flagged & Business)\")\n",
    "\n",
    "ax[1,1].bar(*np.unique(credit_data[flagged & ~pers][\"NumberOfTimes90DaysLate\"], return_counts=True),\n",
    "           color='C4')\n",
    "ax[1,1].set_title(\"NumberOfTimes90DaysLate (Flagged & Business)\")\n",
    "\n",
    "for axes in ax.reshape(-1):\n",
    "    axes.set_xlim([-1,20])\n",
    "    axes.set_xticks(np.arange(0,20,5))\n",
    "\n",
    "fig.tight_layout()\n",
    "plt.show()"
   ]
  },
  {
   "cell_type": "code",
   "execution_count": 45,
   "metadata": {},
   "outputs": [
    {
     "name": "stdout",
     "output_type": "stream",
     "text": [
      "Probability of Nonzero Number of >=90 Days Past Due = 0.05379333333333333\n",
      "Probability of Flagged = 0.06684\n",
      "\n",
      "Probability of Flagged, conditioned on Nonzero Num of >= 90 Days Past Due = 0.41207088858594626\n",
      "\n",
      "Probability of Flagged, conditioned on Nonzero Num of >=90 Days Past Due & Personal = 0.41158582940550403\n",
      "\n",
      "Probability of Flagged, conditioned on Nonzero Num of >= 90 Days Past Due & Business = 0.4142091152815014\n",
      "\n"
     ]
    }
   ],
   "source": [
    "nonzero_num_90_past = (credit_data[\"NumberOfTimes90DaysLate\"] >= 1)\n",
    "\n",
    "prob_nonzero_num_90_past = nonzero_num_90_past.mean()\n",
    "prob_flagged = flagged.mean()\n",
    "print(f\"Probability of Nonzero Number of >=90 Days Past Due = {prob_nonzero_num_90_past}\")\n",
    "print(f\"Probability of Flagged = {prob_flagged}\\n\")\n",
    "\n",
    "p2 = (nonzero_num_90_past & flagged).mean()/(nonzero_num_90_past).mean()\n",
    "print(f\"Probability of Flagged, conditioned on Nonzero Num of >= 90 Days Past Due = {p2}\\n\")\n",
    "\n",
    "p4 = (nonzero_num_90_past & flagged & personal).mean()/(nonzero_num_90_past & personal).mean()\n",
    "print(f\"Probability of Flagged, conditioned on Nonzero Num of >=90 Days Past Due & Personal = {p4}\\n\")\n",
    "\n",
    "p6 = (nonzero_num_90_past & flagged & ~personal).mean()/(nonzero_num_90_past & ~personal).mean()\n",
    "print(f\"Probability of Flagged, conditioned on Nonzero Num of >= 90 Days Past Due & Business = {p6}\\n\")\n"
   ]
  },
  {
   "attachments": {},
   "cell_type": "markdown",
   "metadata": {},
   "source": [
    "From the results above, the odds that a customer will be flagged is increased seven times if they have at least experienced >=90 days past due payments once."
   ]
  },
  {
   "attachments": {},
   "cell_type": "markdown",
   "metadata": {},
   "source": [
    "# 5. Continuous Features Analysis"
   ]
  },
  {
   "cell_type": "code",
   "execution_count": 46,
   "metadata": {},
   "outputs": [
    {
     "data": {
      "text/plain": [
       "Index(['Unnamed: 0', 'SeriousDlqin2yrs',\n",
       "       'RevolvingUtilizationOfUnsecuredLines', 'age',\n",
       "       'NumberOfTime30-59DaysPastDueNotWorse', 'DebtRatio', 'MonthlyIncome',\n",
       "       'NumberOfOpenCreditLinesAndLoans', 'NumberOfTimes90DaysLate',\n",
       "       'NumberRealEstateLoansOrLines', 'NumberOfTime60-89DaysPastDueNotWorse',\n",
       "       'NumberOfDependents', 'TypeCustomer'],\n",
       "      dtype='object')"
      ]
     },
     "execution_count": 46,
     "metadata": {},
     "output_type": "execute_result"
    }
   ],
   "source": [
    "credit_data.columns"
   ]
  },
  {
   "cell_type": "code",
   "execution_count": 47,
   "metadata": {},
   "outputs": [
    {
     "data": {
      "text/html": [
       "<div>\n",
       "<style scoped>\n",
       "    .dataframe tbody tr th:only-of-type {\n",
       "        vertical-align: middle;\n",
       "    }\n",
       "\n",
       "    .dataframe tbody tr th {\n",
       "        vertical-align: top;\n",
       "    }\n",
       "\n",
       "    .dataframe thead th {\n",
       "        text-align: right;\n",
       "    }\n",
       "</style>\n",
       "<table border=\"1\" class=\"dataframe\">\n",
       "  <thead>\n",
       "    <tr style=\"text-align: right;\">\n",
       "      <th></th>\n",
       "      <th>DebtRatio</th>\n",
       "      <th>RevolvingUtilizationOfUnsecuredLines</th>\n",
       "      <th>MonthlyIncome</th>\n",
       "      <th>age</th>\n",
       "    </tr>\n",
       "  </thead>\n",
       "  <tbody>\n",
       "    <tr>\n",
       "      <th>count</th>\n",
       "      <td>150000.000000</td>\n",
       "      <td>150000.000000</td>\n",
       "      <td>1.202690e+05</td>\n",
       "      <td>150000.000000</td>\n",
       "    </tr>\n",
       "    <tr>\n",
       "      <th>mean</th>\n",
       "      <td>353.005076</td>\n",
       "      <td>6.048438</td>\n",
       "      <td>6.670221e+03</td>\n",
       "      <td>52.295553</td>\n",
       "    </tr>\n",
       "    <tr>\n",
       "      <th>std</th>\n",
       "      <td>2037.818523</td>\n",
       "      <td>249.755371</td>\n",
       "      <td>1.438467e+04</td>\n",
       "      <td>14.771249</td>\n",
       "    </tr>\n",
       "    <tr>\n",
       "      <th>min</th>\n",
       "      <td>0.000000</td>\n",
       "      <td>0.000000</td>\n",
       "      <td>0.000000e+00</td>\n",
       "      <td>21.000000</td>\n",
       "    </tr>\n",
       "    <tr>\n",
       "      <th>25%</th>\n",
       "      <td>0.175074</td>\n",
       "      <td>0.029867</td>\n",
       "      <td>3.400000e+03</td>\n",
       "      <td>41.000000</td>\n",
       "    </tr>\n",
       "    <tr>\n",
       "      <th>50%</th>\n",
       "      <td>0.366508</td>\n",
       "      <td>0.154181</td>\n",
       "      <td>5.400000e+03</td>\n",
       "      <td>52.000000</td>\n",
       "    </tr>\n",
       "    <tr>\n",
       "      <th>75%</th>\n",
       "      <td>0.868254</td>\n",
       "      <td>0.559046</td>\n",
       "      <td>8.249000e+03</td>\n",
       "      <td>63.000000</td>\n",
       "    </tr>\n",
       "    <tr>\n",
       "      <th>max</th>\n",
       "      <td>329664.000000</td>\n",
       "      <td>50708.000000</td>\n",
       "      <td>3.008750e+06</td>\n",
       "      <td>109.000000</td>\n",
       "    </tr>\n",
       "  </tbody>\n",
       "</table>\n",
       "</div>"
      ],
      "text/plain": [
       "           DebtRatio  RevolvingUtilizationOfUnsecuredLines  MonthlyIncome  \\\n",
       "count  150000.000000                         150000.000000   1.202690e+05   \n",
       "mean      353.005076                              6.048438   6.670221e+03   \n",
       "std      2037.818523                            249.755371   1.438467e+04   \n",
       "min         0.000000                              0.000000   0.000000e+00   \n",
       "25%         0.175074                              0.029867   3.400000e+03   \n",
       "50%         0.366508                              0.154181   5.400000e+03   \n",
       "75%         0.868254                              0.559046   8.249000e+03   \n",
       "max    329664.000000                          50708.000000   3.008750e+06   \n",
       "\n",
       "                 age  \n",
       "count  150000.000000  \n",
       "mean       52.295553  \n",
       "std        14.771249  \n",
       "min        21.000000  \n",
       "25%        41.000000  \n",
       "50%        52.000000  \n",
       "75%        63.000000  \n",
       "max       109.000000  "
      ]
     },
     "execution_count": 47,
     "metadata": {},
     "output_type": "execute_result"
    }
   ],
   "source": [
    "continuous = ['DebtRatio',\n",
    "              'RevolvingUtilizationOfUnsecuredLines',\n",
    "              'MonthlyIncome',\n",
    "              'age']\n",
    "\n",
    "credit_data[continuous].describe()"
   ]
  },
  {
   "attachments": {},
   "cell_type": "markdown",
   "metadata": {},
   "source": [
    "## 5(a) Debt Ratio"
   ]
  },
  {
   "cell_type": "code",
   "execution_count": 48,
   "metadata": {},
   "outputs": [
    {
     "data": {
      "text/plain": [
       "0.97258"
      ]
     },
     "execution_count": 48,
     "metadata": {},
     "output_type": "execute_result"
    }
   ],
   "source": [
    "nonzero_dr = credit_data[\"DebtRatio\"] > 0\n",
    "nonzero_dr.mean()"
   ]
  },
  {
   "cell_type": "code",
   "execution_count": 49,
   "metadata": {},
   "outputs": [
    {
     "data": {
      "text/plain": [
       "4113"
      ]
     },
     "execution_count": 49,
     "metadata": {},
     "output_type": "execute_result"
    }
   ],
   "source": [
    "(~nonzero_dr).sum()"
   ]
  },
  {
   "cell_type": "code",
   "execution_count": 50,
   "metadata": {},
   "outputs": [
    {
     "name": "stdout",
     "output_type": "stream",
     "text": [
      "Probability of zero DebtRatio given customer type Personal = 0.020711904148201114\n",
      "Probability of zero DebtRatio given customer type Business = 0.05455585079546601\n"
     ]
    }
   ],
   "source": [
    "p1 = (~nonzero_dr & pers).mean()/(pers).mean()\n",
    "\n",
    "print(f\"Probability of zero DebtRatio given customer type Personal = {p1}\")\n",
    "\n",
    "p2 = (~nonzero_dr & ~pers).mean()/(~pers).mean()\n",
    "\n",
    "print(f\"Probability of zero DebtRatio given customer type Business = {p2}\")"
   ]
  },
  {
   "cell_type": "code",
   "execution_count": 51,
   "metadata": {},
   "outputs": [
    {
     "data": {
      "image/png": "[encoded data removed]",
      "text/plain": [
       "<Figure size 1008x288 with 2 Axes>"
      ]
     },
     "metadata": {
      "needs_background": "light"
     },
     "output_type": "display_data"
    },
    {
     "data": {
      "image/png": "[encoded data removed]",
      "text/plain": [
       "<Figure size 1008x288 with 2 Axes>"
      ]
     },
     "metadata": {
      "needs_background": "light"
     },
     "output_type": "display_data"
    }
   ],
   "source": [
    "fig, ax = plt.subplots(1,2,figsize=(14,4))\n",
    "\n",
    "ax[0].hist(credit_data[\"DebtRatio\"], bins = 100, color='C3')\n",
    "ax[0].set_title(\"DebtRatio Histogram\")\n",
    "ax[0].set_xlabel(\"DebtRatio\")\n",
    "ax[0].set_ylabel(\"Count\")\n",
    "\n",
    "ax[1] = sns.boxplot(data=credit_data, x='DebtRatio')\n",
    "\n",
    "plt.show()\n",
    "\n",
    "fig, ax = plt.subplots(1,2,figsize=(14,4))\n",
    "\n",
    "ax[0].hist(credit_data[pers][\"DebtRatio\"], bins = 100, color='C0')\n",
    "ax[0].set_title(\"Debt Ratio Histogram (Personal)\")\n",
    "\n",
    "ax[1].hist(credit_data[~pers][\"DebtRatio\"], bins = 100, color='C1')\n",
    "ax[1].set_title(\"Debt Ratio Histogram (Business)\")\n",
    "\n",
    "for j in range(2):\n",
    "    ax[j].set_xlabel(\"Debt Ratio\")\n",
    "    ax[j].set_ylabel(\"Count\")\n",
    "    \n",
    "plt.show()"
   ]
  },
  {
   "cell_type": "code",
   "execution_count": 52,
   "metadata": {},
   "outputs": [
    {
     "data": {
      "image/png": "[encoded data removed]",
      "text/plain": [
       "<Figure size 504x288 with 1 Axes>"
      ]
     },
     "metadata": {
      "needs_background": "light"
     },
     "output_type": "display_data"
    },
    {
     "data": {
      "image/png": "[encoded data removed]",
      "text/plain": [
       "<Figure size 1008x576 with 4 Axes>"
      ]
     },
     "metadata": {
      "needs_background": "light"
     },
     "output_type": "display_data"
    }
   ],
   "source": [
    "plt.figure(figsize=(7,4))\n",
    "plt.hist(np.log(credit_data[nonzero_dr & pers][\"DebtRatio\"]), bins = 200, label='Personal')\n",
    "plt.hist(np.log(credit_data[nonzero_dr & ~pers][\"DebtRatio\"]), bins = 100, label='Business')\n",
    "plt.title(\"Log Debt Ratio Histogram\")\n",
    "plt.xlabel(\"Log Debt Ratio\")\n",
    "plt.ylabel(\"Count\")\n",
    "plt.legend()\n",
    "\n",
    "plt.show()\n",
    "\n",
    "fig, ax = plt.subplots(2,2, figsize=(14,8))\n",
    "\n",
    "ax[0,0].hist(np.log(credit_data[nonzero_dr & pers & ~flagged][\"DebtRatio\"]), bins = 200, color='C1')\n",
    "ax[0,0].set_title(\"Log Debt Ratio Histogram - Personal (not flagged)\")\n",
    "\n",
    "ax[0,1].hist(np.log(credit_data[nonzero_dr & ~pers & ~flagged][\"DebtRatio\"]), bins = 100, color = 'C2')\n",
    "ax[0,1].set_title(\"Log Debt Ratio Histogram - Business (not flagged)\")\n",
    "\n",
    "ax[1,0].hist(np.log(credit_data[nonzero_dr & pers & flagged][\"DebtRatio\"]), bins = 200, color='C3')\n",
    "ax[1,0].set_title(\"Log Debt Ratio Histogram - Personal (flagged)\")\n",
    "\n",
    "ax[1,1].hist(np.log(credit_data[nonzero_dr & ~pers & flagged][\"DebtRatio\"]), bins = 100, color = 'C4')\n",
    "ax[1,1].set_title(\"Log Debt Ratio Histogram - Business (flagged)\")\n",
    "\n",
    "for axes in ax.reshape(-1):\n",
    "    axes.set_xlabel(\"Log Debt Ratio\")\n",
    "    axes.set_ylabel(\"Count\")\n",
    "    \n",
    "for j in range(2):\n",
    "    ax[j,0].set_xlim([-10,10])\n",
    "    ax[j,1].set_xlim([-0,12])\n",
    "\n",
    "fig.tight_layout()\n",
    "plt.show()"
   ]
  },
  {
   "cell_type": "code",
   "execution_count": 53,
   "metadata": {},
   "outputs": [
    {
     "name": "stdout",
     "output_type": "stream",
     "text": [
      "Probability of 0 DebtRatio: 0.02742\n"
     ]
    }
   ],
   "source": [
    "prob_zero_dr = (~nonzero_dr).mean()\n",
    "\n",
    "print(f'Probability of 0 DebtRatio: {prob_zero_dr}')"
   ]
  },
  {
   "cell_type": "code",
   "execution_count": 54,
   "metadata": {},
   "outputs": [],
   "source": [
    "from scipy.stats import norm"
   ]
  },
  {
   "cell_type": "code",
   "execution_count": 55,
   "metadata": {},
   "outputs": [
    {
     "data": {
      "image/png": "[encoded data removed]",
      "text/plain": [
       "<Figure size 1008x288 with 1 Axes>"
      ]
     },
     "metadata": {
      "needs_background": "light"
     },
     "output_type": "display_data"
    },
    {
     "data": {
      "image/png": "[encoded data removed]",
      "text/plain": [
       "<Figure size 1008x288 with 1 Axes>"
      ]
     },
     "metadata": {
      "needs_background": "light"
     },
     "output_type": "display_data"
    }
   ],
   "source": [
    "for k, cust in enumerate([\"Personal\", \"Business\"]):\n",
    "    \n",
    "    cust_type = (credit_data[\"TypeCustomer\"] == cust)\n",
    "\n",
    "    log_debtratio = np.log(credit_data[nonzero_dr & cust_type][\"DebtRatio\"])\n",
    "\n",
    "    q1 = log_debtratio.quantile(0.25)\n",
    "    q3 = log_debtratio.quantile(0.75)\n",
    "    IQR = q3 - q1\n",
    "    lower = q1 - 1.5*IQR\n",
    "    upper = q3 + 1.5*IQR\n",
    "\n",
    "    p1 = log_debtratio.quantile(0.025)\n",
    "    p2 = log_debtratio.quantile(0.975)\n",
    "\n",
    "    inside_whisker = (log_debtratio > lower) & (log_debtratio < upper)\n",
    "\n",
    "    # create normal distribution plot\n",
    "\n",
    "    x_axis = np.arange(-15, 15, 0.1)\n",
    "\n",
    "    mean = log_debtratio[inside_whisker].mean()\n",
    "    sd = log_debtratio[inside_whisker].std()\n",
    "\n",
    "    plt.figure(figsize=(14,4))    \n",
    "    sns.histplot(x=log_debtratio, stat='density', color=f'C{k}', label=f'Empirical Log {cust} DebtRatio')\n",
    "    plt.plot(x_axis, norm.pdf(x_axis, mean, sd), color=f'C{k+3}', label='Theoretical Normal Distribution')\n",
    "    plt.legend()\n",
    "    plt.show()"
   ]
  },
  {
   "cell_type": "code",
   "execution_count": 56,
   "metadata": {},
   "outputs": [
    {
     "name": "stdout",
     "output_type": "stream",
     "text": [
      "Mean of Normal Distribution: 6.67\n",
      "Standard Deviation of Normal Distribution: 1.65\n"
     ]
    }
   ],
   "source": [
    "print(f'Mean of Normal Distribution: {mean:1.2f}')\n",
    "print(f'Standard Deviation of Normal Distribution: {sd:1.2f}')"
   ]
  },
  {
   "attachments": {},
   "cell_type": "markdown",
   "metadata": {},
   "source": [
    "## 5(b) RevolvingUtilizationOfUnsecuredLines"
   ]
  },
  {
   "cell_type": "code",
   "execution_count": 57,
   "metadata": {},
   "outputs": [
    {
     "data": {
      "image/png": "[encoded data removed]",
      "text/plain": [
       "<Figure size 1008x288 with 2 Axes>"
      ]
     },
     "metadata": {
      "needs_background": "light"
     },
     "output_type": "display_data"
    },
    {
     "data": {
      "image/png": "[encoded data removed]",
      "text/plain": [
       "<Figure size 1008x288 with 2 Axes>"
      ]
     },
     "metadata": {
      "needs_background": "light"
     },
     "output_type": "display_data"
    }
   ],
   "source": [
    "fig, ax = plt.subplots(1,2,figsize=(14,4))\n",
    "\n",
    "ax[0].hist(credit_data[\"RevolvingUtilizationOfUnsecuredLines\"], bins = 100, color='C3')\n",
    "ax[0].set_title(\"RevolvingUtilizationOfUnsecuredLines Histogram\")\n",
    "ax[0].set_xlabel(\"RevolvingUtilizationOfUnsecuredLines\")\n",
    "ax[0].set_ylabel(\"Count\")\n",
    "\n",
    "ax[1] = sns.boxplot(data=credit_data, x='RevolvingUtilizationOfUnsecuredLines')\n",
    "\n",
    "plt.show()\n",
    "\n",
    "fig, ax = plt.subplots(1,2,figsize=(14,4))\n",
    "\n",
    "ax[0].hist(credit_data[pers][\"RevolvingUtilizationOfUnsecuredLines\"], bins = 100, color='C0')\n",
    "ax[0].set_title(\"RevolvingUtilizationOfUnsecuredLines Histogram (Personal)\")\n",
    "\n",
    "ax[1].hist(credit_data[~pers][\"RevolvingUtilizationOfUnsecuredLines\"], bins = 100, color='C1')\n",
    "ax[1].set_title(\"RevolvingUtilizationOfUnsecuredLines Histogram (Business)\")\n",
    "\n",
    "for j in range(2):\n",
    "    ax[j].set_xlabel(\"RevolvingUtilizationOfUnsecuredLines\")\n",
    "    ax[j].set_ylabel(\"Count\")\n",
    "    \n",
    "plt.show()"
   ]
  },
  {
   "cell_type": "code",
   "execution_count": 58,
   "metadata": {},
   "outputs": [
    {
     "data": {
      "image/png": "[encoded data removed]",
      "text/plain": [
       "<Figure size 1008x288 with 2 Axes>"
      ]
     },
     "metadata": {
      "needs_background": "light"
     },
     "output_type": "display_data"
    }
   ],
   "source": [
    "fig, ax = plt.subplots(1, 2, figsize=(14,4))\n",
    "\n",
    "less_1_revolving = credit_data[\"RevolvingUtilizationOfUnsecuredLines\"] <= 1\n",
    "nonzero_revolving = credit_data[\"RevolvingUtilizationOfUnsecuredLines\"] > 0\n",
    "\n",
    "ax[0].hist(credit_data[less_1_revolving][\"RevolvingUtilizationOfUnsecuredLines\"],\n",
    "         bins = 100)\n",
    "ax[0].set_xlim([-0.1,1.1])\n",
    "ax[0].set_xlabel(\"RevolvingUtilizationOfUnsecuredLines\")\n",
    "ax[0].set_ylabel(\"Count\")\n",
    "\n",
    "ax[1].hist(np.log(credit_data[nonzero_revolving][\"RevolvingUtilizationOfUnsecuredLines\"]),\n",
    "         bins = 100)\n",
    "ax[1].set_xlabel(\"Log RevolvingUtilizationOfUnsecuredLines\")\n",
    "ax[1].set_ylabel(\"Count\")\n",
    "\n",
    "plt.show()"
   ]
  },
  {
   "cell_type": "code",
   "execution_count": 59,
   "metadata": {},
   "outputs": [
    {
     "name": "stdout",
     "output_type": "stream",
     "text": [
      "Probability of 0 RevolvingUtilizationOfUnsecuredLines: 0.073\n",
      "Probability of 0.99999-1 RevolvingUtilizationOfUnsecuredLines: 0.068\n"
     ]
    }
   ],
   "source": [
    "prob_0 = (~nonzero_revolving).mean()\n",
    "thres = 0.99999\n",
    "around_1_revolving = (credit_data[\"RevolvingUtilizationOfUnsecuredLines\"] > thres) &  (credit_data[\"RevolvingUtilizationOfUnsecuredLines\"] <= 1)\n",
    "prob_around_1 = around_1_revolving.mean()\n",
    "\n",
    "print(f'Probability of 0 RevolvingUtilizationOfUnsecuredLines: {prob_0:1.3f}')\n",
    "print(f'Probability of {thres}-1 RevolvingUtilizationOfUnsecuredLines: {prob_around_1:1.3f}')"
   ]
  },
  {
   "cell_type": "code",
   "execution_count": 60,
   "metadata": {},
   "outputs": [
    {
     "name": "stdout",
     "output_type": "stream",
     "text": [
      "Probability of Flagged customer, given greater than 1 RevolvingUtilizationOfUnsecuredLines: 0.372\n"
     ]
    }
   ],
   "source": [
    "p = (flagged & ~less_1_revolving).mean()/(~less_1_revolving).mean()\n",
    "\n",
    "print(f'Probability of Flagged customer, given greater than 1 RevolvingUtilizationOfUnsecuredLines: {p:1.3f}')"
   ]
  },
  {
   "cell_type": "code",
   "execution_count": 61,
   "metadata": {},
   "outputs": [
    {
     "data": {
      "text/plain": [
       "0.02214"
      ]
     },
     "execution_count": 61,
     "metadata": {},
     "output_type": "execute_result"
    }
   ],
   "source": [
    "(~less_1_revolving).mean()"
   ]
  },
  {
   "attachments": {},
   "cell_type": "markdown",
   "metadata": {},
   "source": [
    "## 5(c) Monthly Income"
   ]
  },
  {
   "cell_type": "code",
   "execution_count": 62,
   "metadata": {},
   "outputs": [
    {
     "data": {
      "image/png": "[encoded data removed]",
      "text/plain": [
       "<Figure size 1008x288 with 2 Axes>"
      ]
     },
     "metadata": {
      "needs_background": "light"
     },
     "output_type": "display_data"
    }
   ],
   "source": [
    "fig, ax = plt.subplots(1,2,figsize=(14,4))\n",
    "\n",
    "ax[0].hist(credit_data[\"MonthlyIncome\"], bins = 200)\n",
    "ax[0].set_title(\"MonthlyIncome Histogram\")\n",
    "ax[0].set_xlabel(\"MonthlyIncome\")\n",
    "ax[0].set_ylabel(\"Count\")\n",
    "\n",
    "ax[1] = sns.boxplot(data=credit_data, x='MonthlyIncome')\n",
    "\n",
    "plt.show()"
   ]
  },
  {
   "cell_type": "code",
   "execution_count": 63,
   "metadata": {},
   "outputs": [
    {
     "name": "stdout",
     "output_type": "stream",
     "text": [
      "Probability of 0 income among Personal-type customers: 0.0136\n"
     ]
    }
   ],
   "source": [
    "pers = (credit_data[\"TypeCustomer\"]=='Personal')\n",
    "zero_inc = (credit_data[pers][\"MonthlyIncome\"] == 0)\n",
    "p = zero_inc.mean()\n",
    "\n",
    "print(f'Probability of 0 income among Personal-type customers: {p:1.4f}')"
   ]
  },
  {
   "cell_type": "code",
   "execution_count": 64,
   "metadata": {},
   "outputs": [
    {
     "data": {
      "image/png": "[encoded data removed]",
      "text/plain": [
       "<Figure size 1008x288 with 2 Axes>"
      ]
     },
     "metadata": {
      "needs_background": "light"
     },
     "output_type": "display_data"
    }
   ],
   "source": [
    "pers = (credit_data[\"TypeCustomer\"]=='Personal')\n",
    "non_zero_income = (credit_data[\"MonthlyIncome\"] > 0) & (pers)\n",
    "fig, ax = plt.subplots(1,2,figsize=(14,4))\n",
    "\n",
    "log_income = np.log(credit_data[non_zero_income][\"MonthlyIncome\"])\n",
    "\n",
    "sns.histplot(x=log_income, ax=ax[0])\n",
    "ax[0].set_title(\"Log MonthlyIncome Histogram\")\n",
    "ax[0].set_xlabel(\"Log MonthlyIncome\")\n",
    "ax[0].set_ylabel(\"Count\")\n",
    "\n",
    "sns.boxplot(x=log_income, ax=ax[1])\n",
    "\n",
    "plt.show()"
   ]
  },
  {
   "cell_type": "code",
   "execution_count": 65,
   "metadata": {},
   "outputs": [
    {
     "data": {
      "image/png": "[encoded data removed]",
      "text/plain": [
       "<Figure size 1008x288 with 1 Axes>"
      ]
     },
     "metadata": {
      "needs_background": "light"
     },
     "output_type": "display_data"
    }
   ],
   "source": [
    "q1 = log_income.quantile(0.25)\n",
    "q3 = log_income.quantile(0.75)\n",
    "IQR = q3 - q1\n",
    "lower = q1 - 1.5*IQR\n",
    "upper = q3 + 1.5*IQR\n",
    "\n",
    "inside_whisker = (log_income > lower) & (log_income < upper)\n",
    "\n",
    "# create normal distribution plot\n",
    "\n",
    "x_axis = np.arange(-1, 15, 0.1)\n",
    "\n",
    "mean = log_income[inside_whisker].mean()\n",
    "sd = log_income[inside_whisker].std()\n",
    "\n",
    "cust = 'Personal'\n",
    "\n",
    "plt.figure(figsize=(14,4))    \n",
    "sns.histplot(x=log_income, stat='density', label=f'Empirical Log MonthlyIncome ({cust})')\n",
    "plt.plot(x_axis, norm.pdf(x_axis, mean, sd), color='C3', label=f'Theoretical Normal Distribution (mu = {mean:1.2f}, sigma = {sd:1.2f})')\n",
    "plt.legend()\n",
    "plt.show()"
   ]
  },
  {
   "cell_type": "code",
   "execution_count": 66,
   "metadata": {},
   "outputs": [
    {
     "data": {
      "image/png": "[encoded data removed]",
      "text/plain": [
       "<Figure size 1008x288 with 2 Axes>"
      ]
     },
     "metadata": {
      "needs_background": "light"
     },
     "output_type": "display_data"
    }
   ],
   "source": [
    "pers = (credit_data[\"TypeCustomer\"]=='Personal')\n",
    "non_zero_income = (credit_data[\"MonthlyIncome\"] > 0) & (pers)\n",
    "fig, ax = plt.subplots(1,2,figsize=(14,4))\n",
    "\n",
    "for k, loan_status in enumerate([\"Non-Flagged\", \"Flagged\"]):\n",
    "\n",
    "    status = (credit_data['SeriousDlqin2yrs'] == k)\n",
    "    log_income = np.log(credit_data[non_zero_income & status][\"MonthlyIncome\"])\n",
    "\n",
    "    sns.histplot(x=log_income, ax=ax[k], color=f'C{k}')\n",
    "    ax[k].set_title(f'Log MonthlyIncome Histogram ({loan_status})')\n",
    "    ax[k].set_xlabel(\"Log MonthlyIncome\")\n",
    "    ax[k].set_ylabel(\"Count\")\n",
    "\n",
    "plt.show()"
   ]
  },
  {
   "cell_type": "code",
   "execution_count": null,
   "metadata": {},
   "outputs": [],
   "source": []
  }
 ],
 "metadata": {
  "kernelspec": {
   "display_name": "Python 3",
   "language": "python",
   "name": "python3"
  },
  "language_info": {
   "codemirror_mode": {
    "name": "ipython",
    "version": 3
   },
   "file_extension": ".py",
   "mimetype": "text/x-python",
   "name": "python",
   "nbconvert_exporter": "python",
   "pygments_lexer": "ipython3",
   "version": "3.8.5"
  }
 },
 "nbformat": 4,
 "nbformat_minor": 4
}
